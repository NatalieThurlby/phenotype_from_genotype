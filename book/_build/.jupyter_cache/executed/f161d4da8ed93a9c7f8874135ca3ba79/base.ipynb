{
 "cells": [
  {
   "cell_type": "code",
   "execution_count": 1,
   "metadata": {
    "tags": [
     "hide-input",
     "remove-output"
    ]
   },
   "outputs": [
    {
     "data": {
      "text/html": [
       "<div>\n",
       "<style scoped>\n",
       "    .dataframe tbody tr th:only-of-type {\n",
       "        vertical-align: middle;\n",
       "    }\n",
       "\n",
       "    .dataframe tbody tr th {\n",
       "        vertical-align: top;\n",
       "    }\n",
       "\n",
       "    .dataframe thead th {\n",
       "        text-align: right;\n",
       "    }\n",
       "</style>\n",
       "<table border=\"1\" class=\"dataframe\">\n",
       "  <thead>\n",
       "    <tr style=\"text-align: right;\">\n",
       "      <th></th>\n",
       "      <th>Source Name</th>\n",
       "      <th>Charateristics [description]</th>\n",
       "      <th>Characteristics [catalog_id]</th>\n",
       "      <th>Characteristics [Category]</th>\n",
       "      <th>Chracteristics [Species]</th>\n",
       "      <th>Characteristics [Sex]</th>\n",
       "      <th>Characteristics [Age]</th>\n",
       "      <th>Characteristics [Developmental stage]</th>\n",
       "      <th>Characteristics[Tissue]</th>\n",
       "      <th>Characteristics [Cell lot]</th>\n",
       "      <th>Characteristics [Cell type]</th>\n",
       "      <th>Characteristics [Catalogue ID]</th>\n",
       "      <th>Characteristics [Collaboration]</th>\n",
       "      <th>Characteristics [Provider]</th>\n",
       "      <th>Protocol REF</th>\n",
       "      <th>Extract Name</th>\n",
       "      <th>Material Type</th>\n",
       "    </tr>\n",
       "    <tr>\n",
       "      <th>Charateristics [ff_ontology]</th>\n",
       "      <th></th>\n",
       "      <th></th>\n",
       "      <th></th>\n",
       "      <th></th>\n",
       "      <th></th>\n",
       "      <th></th>\n",
       "      <th></th>\n",
       "      <th></th>\n",
       "      <th></th>\n",
       "      <th></th>\n",
       "      <th></th>\n",
       "      <th></th>\n",
       "      <th></th>\n",
       "      <th></th>\n",
       "      <th></th>\n",
       "      <th></th>\n",
       "      <th></th>\n",
       "    </tr>\n",
       "  </thead>\n",
       "  <tbody>\n",
       "    <tr>\n",
       "      <th>FF:10002-101A5</th>\n",
       "      <td>10002-101A5</td>\n",
       "      <td>SABiosciences XpressRef Human Universal Total ...</td>\n",
       "      <td>B208251</td>\n",
       "      <td>tissues</td>\n",
       "      <td>Human (Homo sapiens)</td>\n",
       "      <td>mixed</td>\n",
       "      <td>NaN</td>\n",
       "      <td>UNDEFINED</td>\n",
       "      <td>unclassifiable</td>\n",
       "      <td>NaN</td>\n",
       "      <td>CELL MIXTURE - tissue sample</td>\n",
       "      <td>NaN</td>\n",
       "      <td>FANTOM5 OSC CORE (contact: Al Forrest)</td>\n",
       "      <td>SABiosciences</td>\n",
       "      <td>OP-RNA-extraction-totalRNA-TRIzol-isopropanol-...</td>\n",
       "      <td>10002-101A5</td>\n",
       "      <td>Total RNA</td>\n",
       "    </tr>\n",
       "    <tr>\n",
       "      <th>FF:10016-101C7</th>\n",
       "      <td>10016-101C7</td>\n",
       "      <td>heart, adult, pool1</td>\n",
       "      <td>0910061 -7</td>\n",
       "      <td>tissues</td>\n",
       "      <td>Human (Homo sapiens)</td>\n",
       "      <td>mixed</td>\n",
       "      <td>NaN</td>\n",
       "      <td>70,73,74 years old adult</td>\n",
       "      <td>heart</td>\n",
       "      <td>NaN</td>\n",
       "      <td>CELL MIXTURE - tissue sample</td>\n",
       "      <td>NaN</td>\n",
       "      <td>FANTOM5 OSC CORE (contact: Al Forrest)</td>\n",
       "      <td>Ambion</td>\n",
       "      <td>OP-RNA-extraction-totalRNA-ToTALLY-RNA-v1.0</td>\n",
       "      <td>10016-101C7</td>\n",
       "      <td>Total RNA</td>\n",
       "    </tr>\n",
       "    <tr>\n",
       "      <th>FF:10018-101C9</th>\n",
       "      <td>10018-101C9</td>\n",
       "      <td>liver, adult, pool1</td>\n",
       "      <td>0910061 -9</td>\n",
       "      <td>tissues</td>\n",
       "      <td>Human (Homo sapiens)</td>\n",
       "      <td>mixed</td>\n",
       "      <td>NaN</td>\n",
       "      <td>64,69,70 years old adult</td>\n",
       "      <td>liver</td>\n",
       "      <td>NaN</td>\n",
       "      <td>CELL MIXTURE - tissue sample</td>\n",
       "      <td>NaN</td>\n",
       "      <td>FANTOM5 OSC CORE (contact: Al Forrest)</td>\n",
       "      <td>Ambion</td>\n",
       "      <td>OP-RNA-extraction-totalRNA-ToTALLY-RNA-v1.0</td>\n",
       "      <td>10018-101C9</td>\n",
       "      <td>Total RNA</td>\n",
       "    </tr>\n",
       "  </tbody>\n",
       "</table>\n",
       "</div>"
      ],
      "text/plain": [
       "                              Source Name  \\\n",
       "Charateristics [ff_ontology]                \n",
       "FF:10002-101A5                10002-101A5   \n",
       "FF:10016-101C7                10016-101C7   \n",
       "FF:10018-101C9                10018-101C9   \n",
       "\n",
       "                                                   Charateristics [description]  \\\n",
       "Charateristics [ff_ontology]                                                      \n",
       "FF:10002-101A5                SABiosciences XpressRef Human Universal Total ...   \n",
       "FF:10016-101C7                                              heart, adult, pool1   \n",
       "FF:10018-101C9                                              liver, adult, pool1   \n",
       "\n",
       "                             Characteristics [catalog_id]  \\\n",
       "Charateristics [ff_ontology]                                \n",
       "FF:10002-101A5                                    B208251   \n",
       "FF:10016-101C7                                 0910061 -7   \n",
       "FF:10018-101C9                                 0910061 -9   \n",
       "\n",
       "                             Characteristics [Category]  \\\n",
       "Charateristics [ff_ontology]                              \n",
       "FF:10002-101A5                                  tissues   \n",
       "FF:10016-101C7                                  tissues   \n",
       "FF:10018-101C9                                  tissues   \n",
       "\n",
       "                             Chracteristics [Species] Characteristics [Sex]  \\\n",
       "Charateristics [ff_ontology]                                                  \n",
       "FF:10002-101A5                   Human (Homo sapiens)                 mixed   \n",
       "FF:10016-101C7                   Human (Homo sapiens)                 mixed   \n",
       "FF:10018-101C9                   Human (Homo sapiens)                 mixed   \n",
       "\n",
       "                             Characteristics [Age]  \\\n",
       "Charateristics [ff_ontology]                         \n",
       "FF:10002-101A5                                 NaN   \n",
       "FF:10016-101C7                                 NaN   \n",
       "FF:10018-101C9                                 NaN   \n",
       "\n",
       "                             Characteristics [Developmental stage]  \\\n",
       "Charateristics [ff_ontology]                                         \n",
       "FF:10002-101A5                                           UNDEFINED   \n",
       "FF:10016-101C7                            70,73,74 years old adult   \n",
       "FF:10018-101C9                            64,69,70 years old adult   \n",
       "\n",
       "                             Characteristics[Tissue]  \\\n",
       "Charateristics [ff_ontology]                           \n",
       "FF:10002-101A5                        unclassifiable   \n",
       "FF:10016-101C7                                 heart   \n",
       "FF:10018-101C9                                 liver   \n",
       "\n",
       "                             Characteristics [Cell lot]  \\\n",
       "Charateristics [ff_ontology]                              \n",
       "FF:10002-101A5                                      NaN   \n",
       "FF:10016-101C7                                      NaN   \n",
       "FF:10018-101C9                                      NaN   \n",
       "\n",
       "                               Characteristics [Cell type]  \\\n",
       "Charateristics [ff_ontology]                                 \n",
       "FF:10002-101A5                CELL MIXTURE - tissue sample   \n",
       "FF:10016-101C7                CELL MIXTURE - tissue sample   \n",
       "FF:10018-101C9                CELL MIXTURE - tissue sample   \n",
       "\n",
       "                             Characteristics [Catalogue ID]  \\\n",
       "Charateristics [ff_ontology]                                  \n",
       "FF:10002-101A5                                          NaN   \n",
       "FF:10016-101C7                                          NaN   \n",
       "FF:10018-101C9                                          NaN   \n",
       "\n",
       "                                     Characteristics [Collaboration]  \\\n",
       "Charateristics [ff_ontology]                                           \n",
       "FF:10002-101A5                FANTOM5 OSC CORE (contact: Al Forrest)   \n",
       "FF:10016-101C7                FANTOM5 OSC CORE (contact: Al Forrest)   \n",
       "FF:10018-101C9                FANTOM5 OSC CORE (contact: Al Forrest)   \n",
       "\n",
       "                             Characteristics [Provider]  \\\n",
       "Charateristics [ff_ontology]                              \n",
       "FF:10002-101A5                            SABiosciences   \n",
       "FF:10016-101C7                                   Ambion   \n",
       "FF:10018-101C9                                   Ambion   \n",
       "\n",
       "                                                                   Protocol REF  \\\n",
       "Charateristics [ff_ontology]                                                      \n",
       "FF:10002-101A5                OP-RNA-extraction-totalRNA-TRIzol-isopropanol-...   \n",
       "FF:10016-101C7                      OP-RNA-extraction-totalRNA-ToTALLY-RNA-v1.0   \n",
       "FF:10018-101C9                      OP-RNA-extraction-totalRNA-ToTALLY-RNA-v1.0   \n",
       "\n",
       "                             Extract Name Material Type  \n",
       "Charateristics [ff_ontology]                             \n",
       "FF:10002-101A5                10002-101A5     Total RNA  \n",
       "FF:10016-101C7                10016-101C7     Total RNA  \n",
       "FF:10018-101C9                10018-101C9     Total RNA  "
      ]
     },
     "metadata": {},
     "output_type": "display_data"
    },
    {
     "data": {
      "application/papermill.record/text/html": "<div>\n<style scoped>\n    .dataframe tbody tr th:only-of-type {\n        vertical-align: middle;\n    }\n\n    .dataframe tbody tr th {\n        vertical-align: top;\n    }\n\n    .dataframe thead th {\n        text-align: right;\n    }\n</style>\n<table border=\"1\" class=\"dataframe\">\n  <thead>\n    <tr style=\"text-align: right;\">\n      <th></th>\n      <th>Source Name</th>\n      <th>Charateristics [description]</th>\n      <th>Characteristics [catalog_id]</th>\n      <th>Characteristics [Category]</th>\n      <th>Chracteristics [Species]</th>\n      <th>Characteristics [Sex]</th>\n      <th>Characteristics [Age]</th>\n      <th>Characteristics [Developmental stage]</th>\n      <th>Characteristics[Tissue]</th>\n      <th>Characteristics [Cell lot]</th>\n      <th>Characteristics [Cell type]</th>\n      <th>Characteristics [Catalogue ID]</th>\n      <th>Characteristics [Collaboration]</th>\n      <th>Characteristics [Provider]</th>\n      <th>Protocol REF</th>\n      <th>Extract Name</th>\n      <th>Material Type</th>\n    </tr>\n    <tr>\n      <th>Charateristics [ff_ontology]</th>\n      <th></th>\n      <th></th>\n      <th></th>\n      <th></th>\n      <th></th>\n      <th></th>\n      <th></th>\n      <th></th>\n      <th></th>\n      <th></th>\n      <th></th>\n      <th></th>\n      <th></th>\n      <th></th>\n      <th></th>\n      <th></th>\n      <th></th>\n    </tr>\n  </thead>\n  <tbody>\n    <tr>\n      <th>FF:10002-101A5</th>\n      <td>10002-101A5</td>\n      <td>SABiosciences XpressRef Human Universal Total ...</td>\n      <td>B208251</td>\n      <td>tissues</td>\n      <td>Human (Homo sapiens)</td>\n      <td>mixed</td>\n      <td>NaN</td>\n      <td>UNDEFINED</td>\n      <td>unclassifiable</td>\n      <td>NaN</td>\n      <td>CELL MIXTURE - tissue sample</td>\n      <td>NaN</td>\n      <td>FANTOM5 OSC CORE (contact: Al Forrest)</td>\n      <td>SABiosciences</td>\n      <td>OP-RNA-extraction-totalRNA-TRIzol-isopropanol-...</td>\n      <td>10002-101A5</td>\n      <td>Total RNA</td>\n    </tr>\n    <tr>\n      <th>FF:10016-101C7</th>\n      <td>10016-101C7</td>\n      <td>heart, adult, pool1</td>\n      <td>0910061 -7</td>\n      <td>tissues</td>\n      <td>Human (Homo sapiens)</td>\n      <td>mixed</td>\n      <td>NaN</td>\n      <td>70,73,74 years old adult</td>\n      <td>heart</td>\n      <td>NaN</td>\n      <td>CELL MIXTURE - tissue sample</td>\n      <td>NaN</td>\n      <td>FANTOM5 OSC CORE (contact: Al Forrest)</td>\n      <td>Ambion</td>\n      <td>OP-RNA-extraction-totalRNA-ToTALLY-RNA-v1.0</td>\n      <td>10016-101C7</td>\n      <td>Total RNA</td>\n    </tr>\n    <tr>\n      <th>FF:10018-101C9</th>\n      <td>10018-101C9</td>\n      <td>liver, adult, pool1</td>\n      <td>0910061 -9</td>\n      <td>tissues</td>\n      <td>Human (Homo sapiens)</td>\n      <td>mixed</td>\n      <td>NaN</td>\n      <td>64,69,70 years old adult</td>\n      <td>liver</td>\n      <td>NaN</td>\n      <td>CELL MIXTURE - tissue sample</td>\n      <td>NaN</td>\n      <td>FANTOM5 OSC CORE (contact: Al Forrest)</td>\n      <td>Ambion</td>\n      <td>OP-RNA-extraction-totalRNA-ToTALLY-RNA-v1.0</td>\n      <td>10018-101C9</td>\n      <td>Total RNA</td>\n    </tr>\n  </tbody>\n</table>\n</div>",
      "application/papermill.record/text/plain": "                              Source Name  \\\nCharateristics [ff_ontology]                \nFF:10002-101A5                10002-101A5   \nFF:10016-101C7                10016-101C7   \nFF:10018-101C9                10018-101C9   \n\n                                                   Charateristics [description]  \\\nCharateristics [ff_ontology]                                                      \nFF:10002-101A5                SABiosciences XpressRef Human Universal Total ...   \nFF:10016-101C7                                              heart, adult, pool1   \nFF:10018-101C9                                              liver, adult, pool1   \n\n                             Characteristics [catalog_id]  \\\nCharateristics [ff_ontology]                                \nFF:10002-101A5                                    B208251   \nFF:10016-101C7                                 0910061 -7   \nFF:10018-101C9                                 0910061 -9   \n\n                             Characteristics [Category]  \\\nCharateristics [ff_ontology]                              \nFF:10002-101A5                                  tissues   \nFF:10016-101C7                                  tissues   \nFF:10018-101C9                                  tissues   \n\n                             Chracteristics [Species] Characteristics [Sex]  \\\nCharateristics [ff_ontology]                                                  \nFF:10002-101A5                   Human (Homo sapiens)                 mixed   \nFF:10016-101C7                   Human (Homo sapiens)                 mixed   \nFF:10018-101C9                   Human (Homo sapiens)                 mixed   \n\n                             Characteristics [Age]  \\\nCharateristics [ff_ontology]                         \nFF:10002-101A5                                 NaN   \nFF:10016-101C7                                 NaN   \nFF:10018-101C9                                 NaN   \n\n                             Characteristics [Developmental stage]  \\\nCharateristics [ff_ontology]                                         \nFF:10002-101A5                                           UNDEFINED   \nFF:10016-101C7                            70,73,74 years old adult   \nFF:10018-101C9                            64,69,70 years old adult   \n\n                             Characteristics[Tissue]  \\\nCharateristics [ff_ontology]                           \nFF:10002-101A5                        unclassifiable   \nFF:10016-101C7                                 heart   \nFF:10018-101C9                                 liver   \n\n                             Characteristics [Cell lot]  \\\nCharateristics [ff_ontology]                              \nFF:10002-101A5                                      NaN   \nFF:10016-101C7                                      NaN   \nFF:10018-101C9                                      NaN   \n\n                               Characteristics [Cell type]  \\\nCharateristics [ff_ontology]                                 \nFF:10002-101A5                CELL MIXTURE - tissue sample   \nFF:10016-101C7                CELL MIXTURE - tissue sample   \nFF:10018-101C9                CELL MIXTURE - tissue sample   \n\n                             Characteristics [Catalogue ID]  \\\nCharateristics [ff_ontology]                                  \nFF:10002-101A5                                          NaN   \nFF:10016-101C7                                          NaN   \nFF:10018-101C9                                          NaN   \n\n                                     Characteristics [Collaboration]  \\\nCharateristics [ff_ontology]                                           \nFF:10002-101A5                FANTOM5 OSC CORE (contact: Al Forrest)   \nFF:10016-101C7                FANTOM5 OSC CORE (contact: Al Forrest)   \nFF:10018-101C9                FANTOM5 OSC CORE (contact: Al Forrest)   \n\n                             Characteristics [Provider]  \\\nCharateristics [ff_ontology]                              \nFF:10002-101A5                            SABiosciences   \nFF:10016-101C7                                   Ambion   \nFF:10018-101C9                                   Ambion   \n\n                                                                   Protocol REF  \\\nCharateristics [ff_ontology]                                                      \nFF:10002-101A5                OP-RNA-extraction-totalRNA-TRIzol-isopropanol-...   \nFF:10016-101C7                      OP-RNA-extraction-totalRNA-ToTALLY-RNA-v1.0   \nFF:10018-101C9                      OP-RNA-extraction-totalRNA-ToTALLY-RNA-v1.0   \n\n                             Extract Name Material Type  \nCharateristics [ff_ontology]                             \nFF:10002-101A5                10002-101A5     Total RNA  \nFF:10016-101C7                10016-101C7     Total RNA  \nFF:10018-101C9                10018-101C9     Total RNA  "
     },
     "metadata": {
      "scrapbook": {
       "mime_prefix": "application/papermill.record/",
       "name": "fantom-samples-info-excerpt"
      }
     },
     "output_type": "display_data"
    }
   ],
   "source": [
    "import ontolopy as opy\n",
    "import pandas as pd \n",
    "from myst_nb import glue\n",
    "import time\n",
    "\n",
    "# Read in files:\n",
    "# -------------\n",
    "fantom_obo_file = '../c08-combining/data/experiments/fantom/ff-phase2-170801.obo.txt'\n",
    "fantom_samples_info_file = '../c08-combining/data/experiments/fantom/fantom_humanSamples2.0.csv'\n",
    "uberon_obo_file = '../c08-combining/data/uberon_ext_210321.obo' \n",
    "\n",
    "# Uberon OBO:\n",
    "uberon_obo = opy.load_obo(\n",
    "    file_loc=uberon_obo_file, \n",
    "    ont_ids=['GO', 'UBERON','CL'], \n",
    ")\n",
    "\n",
    "# FANTOM OBO:\n",
    "fantom_obo = opy.load_obo(\n",
    "    file_loc=fantom_obo_file, \n",
    "    ont_ids=['CL', 'FF', 'GO', 'UBERON', 'DOID'],\n",
    ")\n",
    "\n",
    "# FANTOM Samples Info file:\n",
    "fantom_samples_info = pd.read_csv(fantom_samples_info_file, index_col=1)\n",
    "\n",
    "\n",
    "# Glue Samples Info excerpt:\n",
    "# --------------------------\n",
    "indices = [1,9,11]  # choose rows for variety\n",
    "display(fantom_samples_info.iloc[indices])\n",
    "glue(\"fantom-samples-info-excerpt\", fantom_samples_info.iloc[indices], display=False)"
   ]
  },
  {
   "cell_type": "code",
   "execution_count": 2,
   "metadata": {
    "tags": [
     "hide-input"
    ]
   },
   "outputs": [
    {
     "name": "stdout",
     "output_type": "stream",
     "text": [
      "Finds 566 disease relations in 0.057 seconds\n"
     ]
    }
   ],
   "source": [
    "def get_disease_related_samples(samples, ont):\n",
    "    disease_relations_of_interest = ['is_a','is_model_for']\n",
    "    disease_related = opy.Relations(\n",
    "        allowed_relations=disease_relations_of_interest, \n",
    "        sources=list(samples),\n",
    "        targets=['DOID'],\n",
    "        ont=ont,\n",
    "    )\n",
    "    return disease_related\n",
    "\n",
    "start = time.time()\n",
    "disease_related = get_disease_related_samples(fantom_samples_info.index, ont=fantom_obo).dropna(subset=['to'])\n",
    "time_taken = time.time()-start\n",
    "print(f\"Finds {disease_related.shape[0]} disease relations in {time_taken:.3f} seconds\")"
   ]
  },
  {
   "cell_type": "code",
   "execution_count": 3,
   "metadata": {
    "tags": [
     "remove-cell"
    ]
   },
   "outputs": [
    {
     "data": {
      "text/html": [
       "<style  type=\"text/css\" >\n",
       "#T_6ae2d_row0_col0,#T_6ae2d_row0_col1,#T_6ae2d_row0_col2,#T_6ae2d_row1_col0,#T_6ae2d_row1_col1,#T_6ae2d_row1_col2,#T_6ae2d_row2_col0,#T_6ae2d_row2_col1,#T_6ae2d_row2_col2,#T_6ae2d_row3_col0,#T_6ae2d_row3_col1,#T_6ae2d_row3_col2,#T_6ae2d_row4_col0,#T_6ae2d_row4_col1,#T_6ae2d_row4_col2{\n",
       "            white-space:  pre-wrap;\n",
       "        }</style><table id=\"T_6ae2d_\" ><thead>    <tr>        <th class=\"blank level0\" ></th>        <th class=\"col_heading level0 col0\" >relation_path</th>        <th class=\"col_heading level0 col1\" >relation_text</th>        <th class=\"col_heading level0 col2\" >to</th>    </tr>    <tr>        <th class=\"index_name level0\" >from</th>        <th class=\"blank\" ></th>        <th class=\"blank\" ></th>        <th class=\"blank\" ></th>    </tr></thead><tbody>\n",
       "                <tr>\n",
       "                        <th id=\"T_6ae2d_level0_row0\" class=\"row_heading level0 row0\" >FF:10050-101G5</th>\n",
       "                        <td id=\"T_6ae2d_row0_col0\" class=\"data row0 col0\" >FF:10050-101G5.is_model_for~DOID:5844</td>\n",
       "                        <td id=\"T_6ae2d_row0_col1\" class=\"data row0 col1\" >heart, adult, diseased post-infarction, donor1 is\n",
       "model for myocardial infarction</td>\n",
       "                        <td id=\"T_6ae2d_row0_col2\" class=\"data row0 col2\" >DOID:5844</td>\n",
       "            </tr>\n",
       "            <tr>\n",
       "                        <th id=\"T_6ae2d_level0_row1\" class=\"row_heading level0 row1\" >FF:10051-101G6</th>\n",
       "                        <td id=\"T_6ae2d_row1_col0\" class=\"data row1 col0\" >FF:10051-101G6.is_model_for~DOID:114</td>\n",
       "                        <td id=\"T_6ae2d_row1_col1\" class=\"data row1 col1\" >heart, adult, diseased, donor1 is model for heart\n",
       "disease</td>\n",
       "                        <td id=\"T_6ae2d_row1_col2\" class=\"data row1 col2\" >DOID:114</td>\n",
       "            </tr>\n",
       "            <tr>\n",
       "                        <th id=\"T_6ae2d_level0_row2\" class=\"row_heading level0 row2\" >FF:10399-106A3</th>\n",
       "                        <td id=\"T_6ae2d_row2_col0\" class=\"data row2 col0\" >FF:10399-106A3.is_a~FF:0101883.is_a~FF:0100740.i\n",
       "s_model_for~DOID:8692</td>\n",
       "                        <td id=\"T_6ae2d_row2_col1\" class=\"data row2 col1\" >acute myeloid leukemia (FAB M5) cell line:THP-1,\n",
       "rep3 (fresh) is a acute myeloid leukemia cell line\n",
       "sample is a myeloid leukemia cell line sample is\n",
       "model for myeloid leukemia</td>\n",
       "                        <td id=\"T_6ae2d_row2_col2\" class=\"data row2 col2\" >DOID:8692</td>\n",
       "            </tr>\n",
       "            <tr>\n",
       "                        <th id=\"T_6ae2d_level0_row3\" class=\"row_heading level0 row3\" >FF:10400-106A4</th>\n",
       "                        <td id=\"T_6ae2d_row3_col0\" class=\"data row3 col0\" >FF:10400-106A4.is_a~FF:0101883.is_a~FF:0100740.i\n",
       "s_model_for~DOID:8692</td>\n",
       "                        <td id=\"T_6ae2d_row3_col1\" class=\"data row3 col1\" >acute myeloid leukemia (FAB M5) cell line:THP-1,\n",
       "rep1 (revived) is a acute myeloid leukemia cell\n",
       "line sample is a myeloid leukemia cell line sample\n",
       "is model for myeloid leukemia</td>\n",
       "                        <td id=\"T_6ae2d_row3_col2\" class=\"data row3 col2\" >DOID:8692</td>\n",
       "            </tr>\n",
       "            <tr>\n",
       "                        <th id=\"T_6ae2d_level0_row4\" class=\"row_heading level0 row4\" >FF:10405-106A9</th>\n",
       "                        <td id=\"T_6ae2d_row4_col0\" class=\"data row4 col0\" >FF:10405-106A9.is_a~FF:0101883.is_a~FF:0100740.i\n",
       "s_model_for~DOID:8692</td>\n",
       "                        <td id=\"T_6ae2d_row4_col1\" class=\"data row4 col1\" >acute myeloid leukemia (FAB M5) cell line:THP-1,\n",
       "rep3 (thawed) is a acute myeloid leukemia cell\n",
       "line sample is a myeloid leukemia cell line sample\n",
       "is model for myeloid leukemia</td>\n",
       "                        <td id=\"T_6ae2d_row4_col2\" class=\"data row4 col2\" >DOID:8692</td>\n",
       "            </tr>\n",
       "    </tbody></table>"
      ],
      "text/plain": [
       "<pandas.io.formats.style.Styler at 0x11f48add8>"
      ]
     },
     "metadata": {},
     "output_type": "display_data"
    },
    {
     "data": {
      "application/papermill.record/text/html": "<style  type=\"text/css\" >\n#T_6ae2d_row0_col0,#T_6ae2d_row0_col1,#T_6ae2d_row0_col2,#T_6ae2d_row1_col0,#T_6ae2d_row1_col1,#T_6ae2d_row1_col2,#T_6ae2d_row2_col0,#T_6ae2d_row2_col1,#T_6ae2d_row2_col2,#T_6ae2d_row3_col0,#T_6ae2d_row3_col1,#T_6ae2d_row3_col2,#T_6ae2d_row4_col0,#T_6ae2d_row4_col1,#T_6ae2d_row4_col2{\n            white-space:  pre-wrap;\n            white-space:  pre-wrap;\n        }</style><table id=\"T_6ae2d_\" ><thead>    <tr>        <th class=\"blank level0\" ></th>        <th class=\"col_heading level0 col0\" >relation_path</th>        <th class=\"col_heading level0 col1\" >relation_text</th>        <th class=\"col_heading level0 col2\" >to</th>    </tr>    <tr>        <th class=\"index_name level0\" >from</th>        <th class=\"blank\" ></th>        <th class=\"blank\" ></th>        <th class=\"blank\" ></th>    </tr></thead><tbody>\n                <tr>\n                        <th id=\"T_6ae2d_level0_row0\" class=\"row_heading level0 row0\" >FF:10050-101G5</th>\n                        <td id=\"T_6ae2d_row0_col0\" class=\"data row0 col0\" >FF:10050-101G5.is_model_for~DOID:5844</td>\n                        <td id=\"T_6ae2d_row0_col1\" class=\"data row0 col1\" >heart, adult, diseased post-infarction, donor1 is\nmodel for myocardial infarction</td>\n                        <td id=\"T_6ae2d_row0_col2\" class=\"data row0 col2\" >DOID:5844</td>\n            </tr>\n            <tr>\n                        <th id=\"T_6ae2d_level0_row1\" class=\"row_heading level0 row1\" >FF:10051-101G6</th>\n                        <td id=\"T_6ae2d_row1_col0\" class=\"data row1 col0\" >FF:10051-101G6.is_model_for~DOID:114</td>\n                        <td id=\"T_6ae2d_row1_col1\" class=\"data row1 col1\" >heart, adult, diseased, donor1 is model for heart\ndisease</td>\n                        <td id=\"T_6ae2d_row1_col2\" class=\"data row1 col2\" >DOID:114</td>\n            </tr>\n            <tr>\n                        <th id=\"T_6ae2d_level0_row2\" class=\"row_heading level0 row2\" >FF:10399-106A3</th>\n                        <td id=\"T_6ae2d_row2_col0\" class=\"data row2 col0\" >FF:10399-106A3.is_a~FF:0101883.is_a~FF:0100740.i\ns_model_for~DOID:8692</td>\n                        <td id=\"T_6ae2d_row2_col1\" class=\"data row2 col1\" >acute myeloid leukemia (FAB M5) cell line:THP-1,\nrep3 (fresh) is a acute myeloid leukemia cell line\nsample is a myeloid leukemia cell line sample is\nmodel for myeloid leukemia</td>\n                        <td id=\"T_6ae2d_row2_col2\" class=\"data row2 col2\" >DOID:8692</td>\n            </tr>\n            <tr>\n                        <th id=\"T_6ae2d_level0_row3\" class=\"row_heading level0 row3\" >FF:10400-106A4</th>\n                        <td id=\"T_6ae2d_row3_col0\" class=\"data row3 col0\" >FF:10400-106A4.is_a~FF:0101883.is_a~FF:0100740.i\ns_model_for~DOID:8692</td>\n                        <td id=\"T_6ae2d_row3_col1\" class=\"data row3 col1\" >acute myeloid leukemia (FAB M5) cell line:THP-1,\nrep1 (revived) is a acute myeloid leukemia cell\nline sample is a myeloid leukemia cell line sample\nis model for myeloid leukemia</td>\n                        <td id=\"T_6ae2d_row3_col2\" class=\"data row3 col2\" >DOID:8692</td>\n            </tr>\n            <tr>\n                        <th id=\"T_6ae2d_level0_row4\" class=\"row_heading level0 row4\" >FF:10405-106A9</th>\n                        <td id=\"T_6ae2d_row4_col0\" class=\"data row4 col0\" >FF:10405-106A9.is_a~FF:0101883.is_a~FF:0100740.i\ns_model_for~DOID:8692</td>\n                        <td id=\"T_6ae2d_row4_col1\" class=\"data row4 col1\" >acute myeloid leukemia (FAB M5) cell line:THP-1,\nrep3 (thawed) is a acute myeloid leukemia cell\nline sample is a myeloid leukemia cell line sample\nis model for myeloid leukemia</td>\n                        <td id=\"T_6ae2d_row4_col2\" class=\"data row4 col2\" >DOID:8692</td>\n            </tr>\n    </tbody></table>",
      "application/papermill.record/text/plain": "<pandas.io.formats.style.Styler at 0x11f48add8>"
     },
     "metadata": {
      "scrapbook": {
       "mime_prefix": "application/papermill.record/",
       "name": "disease-relations-found"
      }
     },
     "output_type": "display_data"
    }
   ],
   "source": [
    "# Styling table for thesis\n",
    "# ========================\n",
    "disease_related['relation_text'] = disease_related['relation_text'].str.wrap(50)\n",
    "disease_related['relation_path'] = disease_related['relation_path'].str.wrap(48)\n",
    "to_display = disease_related.head(5).style.set_properties(**{\n",
    "    'white-space': 'pre-wrap',\n",
    "})\n",
    "display(to_display)\n",
    "glue(\"disease-relations-found\", to_display, display=False)"
   ]
  },
  {
   "cell_type": "code",
   "execution_count": 4,
   "metadata": {
    "tags": [
     "hide-input"
    ]
   },
   "outputs": [
    {
     "name": "stdout",
     "output_type": "stream",
     "text": [
      "Finds 254 relations to cell differentiation in 0.108 seconds\n"
     ]
    }
   ],
   "source": [
    "def get_differentiable_samples(samples, ont):\n",
    "    in_vivo = 'FF:0000002'\n",
    "    in_vivo_samples = opy.Relations(\n",
    "        allowed_relations=['is_a'], \n",
    "        sources=list(samples), \n",
    "        targets=[in_vivo], \n",
    "        ont=ont,\n",
    "    ).dropna(subset=['to'])\n",
    "    \n",
    "    differentiable = 'GO:0030154'\n",
    "    differentiable_samples = opy.Relations(\n",
    "        allowed_relations=['is_a', 'derives_from', 'capable_of'],\n",
    "        sources=list(in_vivo_samples.index),\n",
    "        targets=[differentiable],\n",
    "        ont=ont,\n",
    "    )\n",
    "    return differentiable_samples\n",
    "\n",
    "# merge ontology:\n",
    "merged = uberon_obo.merge(fantom_obo)\n",
    "\n",
    "# get differentiable cell samples:\n",
    "start = time.time()\n",
    "differentiable_samples = get_differentiable_samples(fantom_samples_info.index, ont=merged).dropna(subset=['to'])\n",
    "time_taken = time.time()-start\n",
    "print(f\"Finds {differentiable_samples.shape[0]} relations to cell differentiation in {time_taken:.3f} seconds\")"
   ]
  },
  {
   "cell_type": "code",
   "execution_count": 5,
   "metadata": {
    "tags": [
     "remove-cell"
    ]
   },
   "outputs": [
    {
     "data": {
      "text/html": [
       "<style  type=\"text/css\" >\n",
       "#T_3a071_row0_col0,#T_3a071_row0_col1,#T_3a071_row0_col2,#T_3a071_row1_col0,#T_3a071_row1_col1,#T_3a071_row1_col2,#T_3a071_row2_col0,#T_3a071_row2_col1,#T_3a071_row2_col2,#T_3a071_row3_col0,#T_3a071_row3_col1,#T_3a071_row3_col2,#T_3a071_row4_col0,#T_3a071_row4_col1,#T_3a071_row4_col2{\n",
       "            white-space:  pre-wrap;\n",
       "        }</style><table id=\"T_3a071_\" ><thead>    <tr>        <th class=\"blank level0\" ></th>        <th class=\"col_heading level0 col0\" >relation_path</th>        <th class=\"col_heading level0 col1\" >relation_text</th>        <th class=\"col_heading level0 col2\" >to</th>    </tr>    <tr>        <th class=\"index_name level0\" >from</th>        <th class=\"blank\" ></th>        <th class=\"blank\" ></th>        <th class=\"blank\" ></th>    </tr></thead><tbody>\n",
       "                <tr>\n",
       "                        <th id=\"T_3a071_level0_row0\" class=\"row_heading level0 row0\" >FF:11214-116A8</th>\n",
       "                        <td id=\"T_3a071_row0_col0\" class=\"data row0 col0\" >FF:11214-116A8.is_a~FF:0000094.derives_from~CL:0\n",
       "002569.is_a~CL:0000134.is_a~CL:0000048.is_a~CL:0\n",
       "000034.is_a~CL:0011115.capable_of~GO:0030154</td>\n",
       "                        <td id=\"T_3a071_row0_col1\" class=\"data row0 col1\" >Mesenchymal stem cell - umbilical, donor0 is a\n",
       "human mesenchymal stem cell of umbilical cord-\n",
       "Sciencell sample derives from mesenchymal stem\n",
       "cell of umbilical cord is a mesenchymal stem cell\n",
       "is a multi fate stem cell is a stem cell is a\n",
       "precursor cell capable of cell differentiation</td>\n",
       "                        <td id=\"T_3a071_row0_col2\" class=\"data row0 col2\" >GO:0030154</td>\n",
       "            </tr>\n",
       "            <tr>\n",
       "                        <th id=\"T_3a071_level0_row1\" class=\"row_heading level0 row1\" >FF:11224-116B9</th>\n",
       "                        <td id=\"T_3a071_row1_col0\" class=\"data row1 col0\" >FF:11224-116B9.is_a~FF:0000024.derives_from~CL:0\n",
       "000576.is_a~CL:0011026.is_a~CL:0011115.capable_o\n",
       "f~GO:0030154</td>\n",
       "                        <td id=\"T_3a071_row1_col1\" class=\"data row1 col1\" >CD14-positive Monocytes, donor1 is a human\n",
       "CD14-positive monocyte sample derives from\n",
       "monocyte is a progenitor cell is a precursor cell\n",
       "capable of cell differentiation</td>\n",
       "                        <td id=\"T_3a071_row1_col2\" class=\"data row1 col2\" >GO:0030154</td>\n",
       "            </tr>\n",
       "            <tr>\n",
       "                        <th id=\"T_3a071_level0_row2\" class=\"row_heading level0 row2\" >FF:11227-116C3</th>\n",
       "                        <td id=\"T_3a071_row2_col0\" class=\"data row2 col0\" >FF:11227-116C3.is_a~FF:0000044.derives_from~CL:0\n",
       "000576.is_a~CL:0011026.is_a~CL:0011115.capable_o\n",
       "f~GO:0030154</td>\n",
       "                        <td id=\"T_3a071_row2_col1\" class=\"data row2 col1\" >Dendritic Cells - monocyte immature derived,\n",
       "donor1, rep1 is a human monocyte immature derived\n",
       "dendritic cell sample derives from monocyte is a\n",
       "progenitor cell is a precursor cell capable of\n",
       "cell differentiation</td>\n",
       "                        <td id=\"T_3a071_row2_col2\" class=\"data row2 col2\" >GO:0030154</td>\n",
       "            </tr>\n",
       "            <tr>\n",
       "                        <th id=\"T_3a071_level0_row3\" class=\"row_heading level0 row3\" >FF:11229-116C5</th>\n",
       "                        <td id=\"T_3a071_row3_col0\" class=\"data row3 col0\" >FF:11229-116C5.derives_from~CL:0000576.is_a~CL:0\n",
       "011026.is_a~CL:0011115.capable_of~GO:0030154</td>\n",
       "                        <td id=\"T_3a071_row3_col1\" class=\"data row3 col1\" >CD14+ monocyte derived endothelial progenitor\n",
       "cells, donor1 derives from monocyte is a\n",
       "progenitor cell is a precursor cell capable of\n",
       "cell differentiation</td>\n",
       "                        <td id=\"T_3a071_row3_col2\" class=\"data row3 col2\" >GO:0030154</td>\n",
       "            </tr>\n",
       "            <tr>\n",
       "                        <th id=\"T_3a071_level0_row4\" class=\"row_heading level0 row4\" >FF:11240-116D7</th>\n",
       "                        <td id=\"T_3a071_row4_col0\" class=\"data row4 col0\" >FF:11240-116D7.is_a~FF:0000165.derives_from~CL:0\n",
       "000594.is_a~CL:0000680.is_a~CL:0000055.is_a~CL:0\n",
       "011115.capable_of~GO:0030154</td>\n",
       "                        <td id=\"T_3a071_row4_col1\" class=\"data row4 col1\" >Skeletal Muscle Satellite Cells, donor1 is a human\n",
       "skeletal muscle satellite cell sample derives from\n",
       "skeletal muscle satellite cell is a muscle\n",
       "precursor cell is a non-terminally differentiated\n",
       "cell is a precursor cell capable of cell\n",
       "differentiation</td>\n",
       "                        <td id=\"T_3a071_row4_col2\" class=\"data row4 col2\" >GO:0030154</td>\n",
       "            </tr>\n",
       "    </tbody></table>"
      ],
      "text/plain": [
       "<pandas.io.formats.style.Styler at 0x121192940>"
      ]
     },
     "metadata": {},
     "output_type": "display_data"
    },
    {
     "data": {
      "application/papermill.record/text/html": "<style  type=\"text/css\" >\n#T_3a071_row0_col0,#T_3a071_row0_col1,#T_3a071_row0_col2,#T_3a071_row1_col0,#T_3a071_row1_col1,#T_3a071_row1_col2,#T_3a071_row2_col0,#T_3a071_row2_col1,#T_3a071_row2_col2,#T_3a071_row3_col0,#T_3a071_row3_col1,#T_3a071_row3_col2,#T_3a071_row4_col0,#T_3a071_row4_col1,#T_3a071_row4_col2{\n            white-space:  pre-wrap;\n            white-space:  pre-wrap;\n        }</style><table id=\"T_3a071_\" ><thead>    <tr>        <th class=\"blank level0\" ></th>        <th class=\"col_heading level0 col0\" >relation_path</th>        <th class=\"col_heading level0 col1\" >relation_text</th>        <th class=\"col_heading level0 col2\" >to</th>    </tr>    <tr>        <th class=\"index_name level0\" >from</th>        <th class=\"blank\" ></th>        <th class=\"blank\" ></th>        <th class=\"blank\" ></th>    </tr></thead><tbody>\n                <tr>\n                        <th id=\"T_3a071_level0_row0\" class=\"row_heading level0 row0\" >FF:11214-116A8</th>\n                        <td id=\"T_3a071_row0_col0\" class=\"data row0 col0\" >FF:11214-116A8.is_a~FF:0000094.derives_from~CL:0\n002569.is_a~CL:0000134.is_a~CL:0000048.is_a~CL:0\n000034.is_a~CL:0011115.capable_of~GO:0030154</td>\n                        <td id=\"T_3a071_row0_col1\" class=\"data row0 col1\" >Mesenchymal stem cell - umbilical, donor0 is a\nhuman mesenchymal stem cell of umbilical cord-\nSciencell sample derives from mesenchymal stem\ncell of umbilical cord is a mesenchymal stem cell\nis a multi fate stem cell is a stem cell is a\nprecursor cell capable of cell differentiation</td>\n                        <td id=\"T_3a071_row0_col2\" class=\"data row0 col2\" >GO:0030154</td>\n            </tr>\n            <tr>\n                        <th id=\"T_3a071_level0_row1\" class=\"row_heading level0 row1\" >FF:11224-116B9</th>\n                        <td id=\"T_3a071_row1_col0\" class=\"data row1 col0\" >FF:11224-116B9.is_a~FF:0000024.derives_from~CL:0\n000576.is_a~CL:0011026.is_a~CL:0011115.capable_o\nf~GO:0030154</td>\n                        <td id=\"T_3a071_row1_col1\" class=\"data row1 col1\" >CD14-positive Monocytes, donor1 is a human\nCD14-positive monocyte sample derives from\nmonocyte is a progenitor cell is a precursor cell\ncapable of cell differentiation</td>\n                        <td id=\"T_3a071_row1_col2\" class=\"data row1 col2\" >GO:0030154</td>\n            </tr>\n            <tr>\n                        <th id=\"T_3a071_level0_row2\" class=\"row_heading level0 row2\" >FF:11227-116C3</th>\n                        <td id=\"T_3a071_row2_col0\" class=\"data row2 col0\" >FF:11227-116C3.is_a~FF:0000044.derives_from~CL:0\n000576.is_a~CL:0011026.is_a~CL:0011115.capable_o\nf~GO:0030154</td>\n                        <td id=\"T_3a071_row2_col1\" class=\"data row2 col1\" >Dendritic Cells - monocyte immature derived,\ndonor1, rep1 is a human monocyte immature derived\ndendritic cell sample derives from monocyte is a\nprogenitor cell is a precursor cell capable of\ncell differentiation</td>\n                        <td id=\"T_3a071_row2_col2\" class=\"data row2 col2\" >GO:0030154</td>\n            </tr>\n            <tr>\n                        <th id=\"T_3a071_level0_row3\" class=\"row_heading level0 row3\" >FF:11229-116C5</th>\n                        <td id=\"T_3a071_row3_col0\" class=\"data row3 col0\" >FF:11229-116C5.derives_from~CL:0000576.is_a~CL:0\n011026.is_a~CL:0011115.capable_of~GO:0030154</td>\n                        <td id=\"T_3a071_row3_col1\" class=\"data row3 col1\" >CD14+ monocyte derived endothelial progenitor\ncells, donor1 derives from monocyte is a\nprogenitor cell is a precursor cell capable of\ncell differentiation</td>\n                        <td id=\"T_3a071_row3_col2\" class=\"data row3 col2\" >GO:0030154</td>\n            </tr>\n            <tr>\n                        <th id=\"T_3a071_level0_row4\" class=\"row_heading level0 row4\" >FF:11240-116D7</th>\n                        <td id=\"T_3a071_row4_col0\" class=\"data row4 col0\" >FF:11240-116D7.is_a~FF:0000165.derives_from~CL:0\n000594.is_a~CL:0000680.is_a~CL:0000055.is_a~CL:0\n011115.capable_of~GO:0030154</td>\n                        <td id=\"T_3a071_row4_col1\" class=\"data row4 col1\" >Skeletal Muscle Satellite Cells, donor1 is a human\nskeletal muscle satellite cell sample derives from\nskeletal muscle satellite cell is a muscle\nprecursor cell is a non-terminally differentiated\ncell is a precursor cell capable of cell\ndifferentiation</td>\n                        <td id=\"T_3a071_row4_col2\" class=\"data row4 col2\" >GO:0030154</td>\n            </tr>\n    </tbody></table>",
      "application/papermill.record/text/plain": "<pandas.io.formats.style.Styler at 0x121192940>"
     },
     "metadata": {
      "scrapbook": {
       "mime_prefix": "application/papermill.record/",
       "name": "differentiable-relations-found"
      }
     },
     "output_type": "display_data"
    }
   ],
   "source": [
    "# Styling table for thesis\n",
    "# ========================\n",
    "differentiable_samples['relation_text'] = differentiable_samples['relation_text'].str.wrap(50)\n",
    "differentiable_samples['relation_path'] = differentiable_samples['relation_path'].str.wrap(48)\n",
    "to_display = differentiable_samples.iloc[[0,4,5,7,8]].style.set_properties(**{\n",
    "    'white-space': 'pre-wrap',\n",
    "})\n",
    "display(to_display)\n",
    "glue(\"differentiable-relations-found\", to_display, display=False)"
   ]
  }
 ],
 "metadata": {
  "jupytext": {
   "formats": "ipynb,md:myst",
   "text_representation": {
    "extension": ".md",
    "format_name": "myst",
    "format_version": 0.12,
    "jupytext_version": "1.9.1"
   }
  },
  "kernelspec": {
   "display_name": "Python 3",
   "language": "python",
   "name": "python3"
  },
  "language_info": {
   "codemirror_mode": {
    "name": "ipython",
    "version": 3
   },
   "file_extension": ".py",
   "mimetype": "text/x-python",
   "name": "python",
   "nbconvert_exporter": "python",
   "pygments_lexer": "ipython3",
   "version": "3.7.2"
  },
  "source_map": [
   13,
   38,
   73,
   177,
   196,
   208,
   221,
   238,
   269,
   281
  ]
 },
 "nbformat": 4,
 "nbformat_minor": 4
}