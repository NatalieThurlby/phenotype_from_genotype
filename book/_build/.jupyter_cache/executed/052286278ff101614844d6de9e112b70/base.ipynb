{
 "cells": [
  {
   "cell_type": "code",
   "execution_count": 1,
   "metadata": {
    "tags": [
     "hide-input",
     "remove-output"
    ]
   },
   "outputs": [
    {
     "data": {
      "text/html": [
       "<div>\n",
       "<style scoped>\n",
       "    .dataframe tbody tr th:only-of-type {\n",
       "        vertical-align: middle;\n",
       "    }\n",
       "\n",
       "    .dataframe tbody tr th {\n",
       "        vertical-align: top;\n",
       "    }\n",
       "\n",
       "    .dataframe thead th {\n",
       "        text-align: right;\n",
       "    }\n",
       "</style>\n",
       "<table border=\"1\" class=\"dataframe\">\n",
       "  <thead>\n",
       "    <tr style=\"text-align: right;\">\n",
       "      <th></th>\n",
       "      <th>domain_type</th>\n",
       "      <th>domain_sunid</th>\n",
       "      <th>ont_term_id</th>\n",
       "      <th>ont_term_name</th>\n",
       "      <th>ont_subontologies</th>\n",
       "      <th>information_content</th>\n",
       "      <th>annotation_origin_1direct_0inherited</th>\n",
       "      <th>ont_id</th>\n",
       "    </tr>\n",
       "  </thead>\n",
       "  <tbody>\n",
       "    <tr>\n",
       "      <th>0</th>\n",
       "      <td>fa</td>\n",
       "      <td>57736</td>\n",
       "      <td>HP:0011420</td>\n",
       "      <td>Age of death</td>\n",
       "      <td>Mortality_Aging</td>\n",
       "      <td>0.0</td>\n",
       "      <td>0</td>\n",
       "      <td>HP</td>\n",
       "    </tr>\n",
       "    <tr>\n",
       "      <th>1</th>\n",
       "      <td>fa</td>\n",
       "      <td>47502</td>\n",
       "      <td>HP:0011420</td>\n",
       "      <td>Age of death</td>\n",
       "      <td>Mortality_Aging</td>\n",
       "      <td>0.0</td>\n",
       "      <td>0</td>\n",
       "      <td>HP</td>\n",
       "    </tr>\n",
       "    <tr>\n",
       "      <th>2</th>\n",
       "      <td>fa</td>\n",
       "      <td>47547</td>\n",
       "      <td>HP:0011420</td>\n",
       "      <td>Age of death</td>\n",
       "      <td>Mortality_Aging</td>\n",
       "      <td>0.0</td>\n",
       "      <td>0</td>\n",
       "      <td>HP</td>\n",
       "    </tr>\n",
       "    <tr>\n",
       "      <th>3</th>\n",
       "      <td>fa</td>\n",
       "      <td>90258</td>\n",
       "      <td>HP:0011420</td>\n",
       "      <td>Age of death</td>\n",
       "      <td>Mortality_Aging</td>\n",
       "      <td>0.0</td>\n",
       "      <td>0</td>\n",
       "      <td>HP</td>\n",
       "    </tr>\n",
       "    <tr>\n",
       "      <th>4</th>\n",
       "      <td>fa</td>\n",
       "      <td>57736</td>\n",
       "      <td>HP:0001699</td>\n",
       "      <td>Sudden death</td>\n",
       "      <td>Mortality_Aging</td>\n",
       "      <td>0.0</td>\n",
       "      <td>1</td>\n",
       "      <td>HP</td>\n",
       "    </tr>\n",
       "  </tbody>\n",
       "</table>\n",
       "</div>"
      ],
      "text/plain": [
       "  domain_type  domain_sunid ont_term_id ont_term_name ont_subontologies  \\\n",
       "0          fa         57736  HP:0011420  Age of death   Mortality_Aging   \n",
       "1          fa         47502  HP:0011420  Age of death   Mortality_Aging   \n",
       "2          fa         47547  HP:0011420  Age of death   Mortality_Aging   \n",
       "3          fa         90258  HP:0011420  Age of death   Mortality_Aging   \n",
       "4          fa         57736  HP:0001699  Sudden death   Mortality_Aging   \n",
       "\n",
       "   information_content  annotation_origin_1direct_0inherited ont_id  \n",
       "0                  0.0                                     0     HP  \n",
       "1                  0.0                                     0     HP  \n",
       "2                  0.0                                     0     HP  \n",
       "3                  0.0                                     0     HP  \n",
       "4                  0.0                                     1     HP  "
      ]
     },
     "metadata": {},
     "output_type": "display_data"
    },
    {
     "data": {
      "text/plain": [
       "15984"
      ]
     },
     "metadata": {
      "scrapbook": {
       "mime_prefix": "",
       "name": "HP_assignments"
      }
     },
     "output_type": "display_data"
    },
    {
     "data": {
      "text/plain": [
       "1978"
      ]
     },
     "metadata": {
      "scrapbook": {
       "mime_prefix": "",
       "name": "HP_terms"
      }
     },
     "output_type": "display_data"
    },
    {
     "data": {
      "text/plain": [
       "562"
      ]
     },
     "metadata": {
      "scrapbook": {
       "mime_prefix": "",
       "name": "HP_domains"
      }
     },
     "output_type": "display_data"
    },
    {
     "data": {
      "text/plain": [
       "5761"
      ]
     },
     "metadata": {
      "scrapbook": {
       "mime_prefix": "",
       "name": "MESH_assignments"
      }
     },
     "output_type": "display_data"
    },
    {
     "data": {
      "text/plain": [
       "620"
      ]
     },
     "metadata": {
      "scrapbook": {
       "mime_prefix": "",
       "name": "MESH_terms"
      }
     },
     "output_type": "display_data"
    },
    {
     "data": {
      "text/plain": [
       "473"
      ]
     },
     "metadata": {
      "scrapbook": {
       "mime_prefix": "",
       "name": "MESH_domains"
      }
     },
     "output_type": "display_data"
    },
    {
     "data": {
      "text/plain": [
       "7538"
      ]
     },
     "metadata": {
      "scrapbook": {
       "mime_prefix": "",
       "name": "DO_assignments"
      }
     },
     "output_type": "display_data"
    },
    {
     "data": {
      "text/plain": [
       "614"
      ]
     },
     "metadata": {
      "scrapbook": {
       "mime_prefix": "",
       "name": "DO_terms"
      }
     },
     "output_type": "display_data"
    },
    {
     "data": {
      "text/plain": [
       "566"
      ]
     },
     "metadata": {
      "scrapbook": {
       "mime_prefix": "",
       "name": "DO_domains"
      }
     },
     "output_type": "display_data"
    },
    {
     "data": {
      "text/plain": [
       "304064"
      ]
     },
     "metadata": {
      "scrapbook": {
       "mime_prefix": "",
       "name": "GOBP_assignments"
      }
     },
     "output_type": "display_data"
    },
    {
     "data": {
      "text/plain": [
       "9546"
      ]
     },
     "metadata": {
      "scrapbook": {
       "mime_prefix": "",
       "name": "GOBP_terms"
      }
     },
     "output_type": "display_data"
    },
    {
     "data": {
      "text/plain": [
       "3135"
      ]
     },
     "metadata": {
      "scrapbook": {
       "mime_prefix": "",
       "name": "GOBP_domains"
      }
     },
     "output_type": "display_data"
    },
    {
     "data": {
      "text/plain": [
       "24208"
      ]
     },
     "metadata": {
      "scrapbook": {
       "mime_prefix": "",
       "name": "MP_assignments"
      }
     },
     "output_type": "display_data"
    },
    {
     "data": {
      "text/plain": [
       "2528"
      ]
     },
     "metadata": {
      "scrapbook": {
       "mime_prefix": "",
       "name": "MP_terms"
      }
     },
     "output_type": "display_data"
    },
    {
     "data": {
      "text/plain": [
       "719"
      ]
     },
     "metadata": {
      "scrapbook": {
       "mime_prefix": "",
       "name": "MP_domains"
      }
     },
     "output_type": "display_data"
    },
    {
     "data": {
      "text/plain": [
       "357555"
      ]
     },
     "metadata": {
      "scrapbook": {
       "mime_prefix": "",
       "name": "all_assignments"
      }
     },
     "output_type": "display_data"
    },
    {
     "data": {
      "text/plain": [
       "15286"
      ]
     },
     "metadata": {
      "scrapbook": {
       "mime_prefix": "",
       "name": "all_terms"
      }
     },
     "output_type": "display_data"
    },
    {
     "data": {
      "text/plain": [
       "3146"
      ]
     },
     "metadata": {
      "scrapbook": {
       "mime_prefix": "",
       "name": "all_domains"
      }
     },
     "output_type": "display_data"
    }
   ],
   "source": [
    "import pandas as pd\n",
    "import os\n",
    "from myst_nb import glue\n",
    "\n",
    "notebook_name = '3-creating-inputs.ipynb' # __file__ doesn't work in a jupyter notebook\n",
    "\n",
    "input_dir = 'data/dcGO_input/downloaded'\n",
    "HP_loc = os.path.join(input_dir, 'Domain2HP.txt')\n",
    "MESH_loc = os.path.join(input_dir, 'Domain2CD.txt')\n",
    "DO_loc = os.path.join(input_dir, 'Domain2DO.txt')\n",
    "GO_loc = os.path.join(input_dir, 'Domain2GO_supported_only_by_all.txt') # high coverage\n",
    "MP_loc = os.path.join(input_dir, 'Domain2MP.txt')\n",
    "\n",
    "new_col_names = ['domain_type', \n",
    "                 'domain_sunid', \n",
    "                 'ont_term_id', \n",
    "                 'ont_term_name', \n",
    "                 'ont_subontologies', \n",
    "                 'information_content', \n",
    "                 'annotation_origin_1direct_0inherited']\n",
    "\n",
    "hp = pd.read_csv(HP_loc, sep='\\t', comment= '#')\n",
    "hp.columns = new_col_names\n",
    "hp['ont_id'] = 'HP'\n",
    "\n",
    "mesh = pd.read_csv(MESH_loc, sep='\\t', comment= '#')\n",
    "mesh.columns = new_col_names\n",
    "mesh['ont_id'] = 'MESH'\n",
    "\n",
    "do = pd.read_csv(DO_loc, sep='\\t', comment= '#')\n",
    "do.columns = new_col_names\n",
    "do['ont_id'] = 'DO'\n",
    "\n",
    "go = pd.read_csv(GO_loc, sep='\\t', comment= '#')\n",
    "go.columns = new_col_names\n",
    "go = go[go['ont_subontologies'] == 'biological_process']\n",
    "go['ont_id'] = 'GO_BP'\n",
    "\n",
    "mp = pd.read_csv(MP_loc, sep='\\t', comment= '#')\n",
    "mp.columns = new_col_names\n",
    "mp['ont_id'] = 'MP'\n",
    "\n",
    "all_onts = pd.concat([hp, mesh, do, go, mp], ignore_index=True)\n",
    "outfile = 'data/dcGO_input/created/human_po.txt'\n",
    "with open(outfile, 'w') as f:\n",
    "    f.write(f'# file created at {pd.Timestamp.now()} by {notebook_name}.\\n')\n",
    "    f.write('# file contains high coverage mappings for HP, MESH (CD), DO, and GOBP.\\n')\n",
    "    all_onts.to_csv(f, index=False)\n",
    "    \n",
    "display(all_onts.head())\n",
    "\n",
    "def glue_counts_dcGO(df: pd.DataFrame, identifier: str):\n",
    "    \"\"\"\n",
    "    Expects a DataFrame df that contains only ontology terms of interest.\n",
    "    \"\"\"\n",
    "    glue(f\"{identifier}_assignments\", len(df))\n",
    "    glue(f\"{identifier}_terms\", len(df['ont_term_id'].unique()))\n",
    "    glue(f\"{identifier}_domains\", len(df['domain_sunid'].unique()))\n",
    "    \n",
    "    return None\n",
    "    \n",
    "glue_counts_dcGO(all_onts[all_onts['ont_id']=='HP'], 'HP')\n",
    "glue_counts_dcGO(all_onts[all_onts['ont_id']=='MESH'], 'MESH')\n",
    "glue_counts_dcGO(all_onts[all_onts['ont_id']=='DO'], 'DO')\n",
    "glue_counts_dcGO(all_onts[all_onts['ont_id']=='GO_BP'], 'GOBP')\n",
    "glue_counts_dcGO(all_onts[all_onts['ont_id']=='MP'], 'MP')\n",
    "glue_counts_dcGO(all_onts, 'all')"
   ]
  },
  {
   "cell_type": "code",
   "execution_count": 2,
   "metadata": {
    "tags": [
     "hide-input",
     "remove-output"
    ]
   },
   "outputs": [
    {
     "data": {
      "text/html": [
       "<table border=\"1\" class=\"dataframe\">\n",
       "  <thead>\n",
       "    <tr style=\"text-align: right;\">\n",
       "      <th>domain_type</th>\n",
       "      <th>domain_sunid</th>\n",
       "      <th>ont_term_id</th>\n",
       "      <th>ont_term_name</th>\n",
       "      <th>ont_subontologies</th>\n",
       "      <th>information_content</th>\n",
       "      <th>annotation_origin_1direct_0inherited</th>\n",
       "      <th>ont_id</th>\n",
       "    </tr>\n",
       "  </thead>\n",
       "  <tbody>\n",
       "    <tr>\n",
       "      <td>fa</td>\n",
       "      <td>55528</td>\n",
       "      <td>HP:0000925</td>\n",
       "      <td>Abnormality of the vertebral column</td>\n",
       "      <td>Phenotypic_abnormality</td>\n",
       "      <td>1.123852</td>\n",
       "      <td>0</td>\n",
       "      <td>HP</td>\n",
       "    </tr>\n",
       "    <tr>\n",
       "      <td>sf</td>\n",
       "      <td>53822</td>\n",
       "      <td>MESH:D013568</td>\n",
       "      <td>Pathological Conditions, Signs and Symptoms</td>\n",
       "      <td>CTD_diseases</td>\n",
       "      <td>0.581857</td>\n",
       "      <td>0</td>\n",
       "      <td>MESH</td>\n",
       "    </tr>\n",
       "    <tr>\n",
       "      <td>sf</td>\n",
       "      <td>48619</td>\n",
       "      <td>GO:0006658</td>\n",
       "      <td>phosphatidylserine metabolic process</td>\n",
       "      <td>biological_process</td>\n",
       "      <td>2.596963</td>\n",
       "      <td>1</td>\n",
       "      <td>GO_BP</td>\n",
       "    </tr>\n",
       "  </tbody>\n",
       "</table>"
      ],
      "text/plain": [
       "<IPython.core.display.HTML object>"
      ]
     },
     "metadata": {
      "scrapbook": {
       "mime_prefix": "",
       "name": "excerpt-pofile"
      }
     },
     "output_type": "display_data"
    }
   ],
   "source": [
    "from IPython.display import HTML \n",
    "\n",
    "lines_to_view = [8000,20000,50000]\n",
    "view = HTML(all_onts.iloc[lines_to_view].to_html(index=False)) \n",
    "glue(\"excerpt-pofile\", view)"
   ]
  },
  {
   "cell_type": "code",
   "execution_count": 3,
   "metadata": {
    "tags": [
     "remove-cell"
    ]
   },
   "outputs": [
    {
     "data": {
      "text/html": [
       "<div>\n",
       "<style scoped>\n",
       "    .dataframe tbody tr th:only-of-type {\n",
       "        vertical-align: middle;\n",
       "    }\n",
       "\n",
       "    .dataframe tbody tr th {\n",
       "        vertical-align: top;\n",
       "    }\n",
       "\n",
       "    .dataframe thead th {\n",
       "        text-align: right;\n",
       "    }\n",
       "</style>\n",
       "<table border=\"1\" class=\"dataframe\">\n",
       "  <thead>\n",
       "    <tr style=\"text-align: right;\">\n",
       "      <th></th>\n",
       "      <th></th>\n",
       "      <th>REF</th>\n",
       "      <th>ALT</th>\n",
       "    </tr>\n",
       "    <tr>\n",
       "      <th>#CHROM</th>\n",
       "      <th>POS</th>\n",
       "      <th></th>\n",
       "      <th></th>\n",
       "    </tr>\n",
       "  </thead>\n",
       "  <tbody>\n",
       "    <tr>\n",
       "      <th rowspan=\"5\" valign=\"top\">1</th>\n",
       "      <th>69224</th>\n",
       "      <td>A</td>\n",
       "      <td>T</td>\n",
       "    </tr>\n",
       "    <tr>\n",
       "      <th>69428</th>\n",
       "      <td>T</td>\n",
       "      <td>G</td>\n",
       "    </tr>\n",
       "    <tr>\n",
       "      <th>69487</th>\n",
       "      <td>G</td>\n",
       "      <td>A</td>\n",
       "    </tr>\n",
       "    <tr>\n",
       "      <th>69496</th>\n",
       "      <td>G</td>\n",
       "      <td>A</td>\n",
       "    </tr>\n",
       "    <tr>\n",
       "      <th>69521</th>\n",
       "      <td>T</td>\n",
       "      <td>A</td>\n",
       "    </tr>\n",
       "    <tr>\n",
       "      <th>...</th>\n",
       "      <th>...</th>\n",
       "      <td>...</td>\n",
       "      <td>...</td>\n",
       "    </tr>\n",
       "    <tr>\n",
       "      <th rowspan=\"5\" valign=\"top\">Y</th>\n",
       "      <th>21897579</th>\n",
       "      <td>A</td>\n",
       "      <td>G</td>\n",
       "    </tr>\n",
       "    <tr>\n",
       "      <th>21901440</th>\n",
       "      <td>G</td>\n",
       "      <td>C</td>\n",
       "    </tr>\n",
       "    <tr>\n",
       "      <th>21906413</th>\n",
       "      <td>G</td>\n",
       "      <td>A</td>\n",
       "    </tr>\n",
       "    <tr>\n",
       "      <th>22941490</th>\n",
       "      <td>G</td>\n",
       "      <td>A</td>\n",
       "    </tr>\n",
       "    <tr>\n",
       "      <th>22942878</th>\n",
       "      <td>A</td>\n",
       "      <td>G</td>\n",
       "    </tr>\n",
       "  </tbody>\n",
       "</table>\n",
       "<p>561906 rows × 2 columns</p>\n",
       "</div>"
      ],
      "text/plain": [
       "                REF ALT\n",
       "#CHROM POS             \n",
       "1      69224      A   T\n",
       "       69428      T   G\n",
       "       69487      G   A\n",
       "       69496      G   A\n",
       "       69521      T   A\n",
       "...              ..  ..\n",
       "Y      21897579   A   G\n",
       "       21901440   G   C\n",
       "       21906413   G   A\n",
       "       22941490   G   A\n",
       "       22942878   A   G\n",
       "\n",
       "[561906 rows x 2 columns]"
      ]
     },
     "metadata": {},
     "output_type": "display_data"
    },
    {
     "name": "stdout",
     "output_type": "stream",
     "text": [
      "0\n"
     ]
    }
   ],
   "source": [
    "import tabix\n",
    "import os\n",
    "import numpy as np\n",
    "\n",
    "# Read in background and make a note of which calls are thre\n",
    "background_loc = 'data/background.vcf'\n",
    "bg_df = pd.read_csv(background_loc, \n",
    "                    usecols=['#CHROM', 'POS', 'REF', 'ALT'],\n",
    "                    dtype={\"#CHROM\":str, 'POS':int, 'REF':str, 'ALT':str},\n",
    "                    sep='\\t', \n",
    "                    index_col=['#CHROM', 'POS'])\n",
    "display(bg_df)\n",
    "\n",
    "consequence_loc = 'data/consequences.tsv'\n",
    "c_columns = ['#CHROM', 'POS', 'calls', 'snp_id', 'ENSP_id', 'prot_sub', 'HMM', 'position', 'ref_prob', 'mut_prob', 'SUPERFAMILY', 'Sup_e_val', 'FAMILY', 'Fam_e_val']\n",
    "\n",
    "# TODO: Get combined 23andMe (v2 chip) and CAGI6 list\n",
    "c_tb = tabix.open(f\"{consequence_loc}.gz\")\n",
    "flipped_count = 0\n",
    "selected_rows = []\n",
    "for chrom, pos in bg_df.index.unique():\n",
    "    results = c_tb.query(chrom, pos-1, pos)    \n",
    "    ref, alt = bg_df.loc[(chrom, pos)]\n",
    "    \n",
    "    for result in results:\n",
    "        call = result[2]\n",
    "        if call == f\"{ref}/{alt}\":\n",
    "            selected_rows.append(result)\n",
    "        elif call == f\"{alt}/{ref}\":\n",
    "            selected_rows.append(result)\n",
    "            flipped_count+=1\n",
    "print(flipped_count)\n",
    "            \n",
    "c_df = pd.DataFrame(selected_rows, columns=c_columns)\n",
    "# Some versions of snowflake keep in information about proteins that don't have domain assignments (this removes those rows)\n",
    "c_df = c_df.replace(r'^\\s*$', np.nan, regex=True).dropna(subset=['FAMILY','SUPERFAMILY'])\n",
    "c_df.to_csv('data/consequences_2500G.tsv', index=False)\n",
    "\n",
    "c_df.set_index(['#CHROM', 'POS'], inplace=True)"
   ]
  },
  {
   "cell_type": "code",
   "execution_count": 4,
   "metadata": {
    "tags": [
     "remove-output",
     "hide-input"
    ]
   },
   "outputs": [
    {
     "data": {
      "text/plain": [
       "503670"
      ]
     },
     "metadata": {
      "scrapbook": {
       "mime_prefix": "",
       "name": "consequence-rows"
      }
     },
     "output_type": "display_data"
    },
    {
     "data": {
      "text/plain": [
       "218534"
      ]
     },
     "metadata": {
      "scrapbook": {
       "mime_prefix": "",
       "name": "consequence-unique-snps"
      }
     },
     "output_type": "display_data"
    },
    {
     "data": {
      "text/plain": [
       "38242"
      ]
     },
     "metadata": {
      "scrapbook": {
       "mime_prefix": "",
       "name": "consequence-unique-proteins"
      }
     },
     "output_type": "display_data"
    },
    {
     "data": {
      "text/plain": [
       "1859"
      ]
     },
     "metadata": {
      "scrapbook": {
       "mime_prefix": "",
       "name": "consequence-unique-families"
      }
     },
     "output_type": "display_data"
    },
    {
     "data": {
      "text/plain": [
       "1036"
      ]
     },
     "metadata": {
      "scrapbook": {
       "mime_prefix": "",
       "name": "consequence-unique-supfam"
      }
     },
     "output_type": "display_data"
    },
    {
     "name": "stderr",
     "output_type": "stream",
     "text": [
      "/Users/nataliethurlby/phd/jupyter_books_etc/jekyll-version/phenotype_from_genotype/venv/lib/python3.7/site-packages/ipykernel_launcher.py:11: PerformanceWarning: indexing past lexsort depth may impact performance.\n",
      "  # This is added back by InteractiveShellApp.init_path()\n",
      "/Users/nataliethurlby/phd/jupyter_books_etc/jekyll-version/phenotype_from_genotype/venv/lib/python3.7/site-packages/ipykernel_launcher.py:12: PerformanceWarning: indexing past lexsort depth may impact performance.\n",
      "  if sys.path[0] == '':\n"
     ]
    },
    {
     "data": {
      "text/html": [
       "<div>\n",
       "<style scoped>\n",
       "    .dataframe tbody tr th:only-of-type {\n",
       "        vertical-align: middle;\n",
       "    }\n",
       "\n",
       "    .dataframe tbody tr th {\n",
       "        vertical-align: top;\n",
       "    }\n",
       "\n",
       "    .dataframe thead th {\n",
       "        text-align: right;\n",
       "    }\n",
       "</style>\n",
       "<table border=\"1\" class=\"dataframe\">\n",
       "  <thead>\n",
       "    <tr style=\"text-align: right;\">\n",
       "      <th></th>\n",
       "      <th></th>\n",
       "      <th>calls</th>\n",
       "      <th>snp_id</th>\n",
       "      <th>ENSP_id</th>\n",
       "      <th>prot_sub</th>\n",
       "      <th>HMM</th>\n",
       "      <th>position</th>\n",
       "      <th>ref_prob</th>\n",
       "      <th>mut_prob</th>\n",
       "      <th>SUPERFAMILY</th>\n",
       "      <th>Sup_e_val</th>\n",
       "      <th>FAMILY</th>\n",
       "      <th>Fam_e_val</th>\n",
       "    </tr>\n",
       "    <tr>\n",
       "      <th>#CHROM</th>\n",
       "      <th>POS</th>\n",
       "      <th></th>\n",
       "      <th></th>\n",
       "      <th></th>\n",
       "      <th></th>\n",
       "      <th></th>\n",
       "      <th></th>\n",
       "      <th></th>\n",
       "      <th></th>\n",
       "      <th></th>\n",
       "      <th></th>\n",
       "      <th></th>\n",
       "      <th></th>\n",
       "    </tr>\n",
       "  </thead>\n",
       "  <tbody>\n",
       "    <tr>\n",
       "      <th rowspan=\"8\" valign=\"top\">1</th>\n",
       "      <th>69224</th>\n",
       "      <td>A/T</td>\n",
       "      <td>NaN</td>\n",
       "      <td>ENSP00000334393</td>\n",
       "      <td>D45V</td>\n",
       "      <td>SF0037432</td>\n",
       "      <td>44</td>\n",
       "      <td>0.524940000001</td>\n",
       "      <td>4.26011</td>\n",
       "      <td>81321</td>\n",
       "      <td>2.93e-78</td>\n",
       "      <td>81320</td>\n",
       "      <td>0.0021</td>\n",
       "    </tr>\n",
       "    <tr>\n",
       "      <th>1290695</th>\n",
       "      <td>G/C</td>\n",
       "      <td>NaN</td>\n",
       "      <td>ENSP00000307887</td>\n",
       "      <td>T136S</td>\n",
       "      <td>SF0042359</td>\n",
       "      <td>95</td>\n",
       "      <td>1.83872</td>\n",
       "      <td>2.56474</td>\n",
       "      <td>48726</td>\n",
       "      <td>3.14e-10</td>\n",
       "      <td>48727</td>\n",
       "      <td>0.0099</td>\n",
       "    </tr>\n",
       "    <tr>\n",
       "      <th>1290695</th>\n",
       "      <td>G/C</td>\n",
       "      <td>NaN</td>\n",
       "      <td>ENSP00000344998</td>\n",
       "      <td>T35S</td>\n",
       "      <td>SF0047556</td>\n",
       "      <td>61</td>\n",
       "      <td>1.72866</td>\n",
       "      <td>2.45993</td>\n",
       "      <td>48726</td>\n",
       "      <td>0.000485</td>\n",
       "      <td>49159</td>\n",
       "      <td>0.077</td>\n",
       "    </tr>\n",
       "    <tr>\n",
       "      <th>1290695</th>\n",
       "      <td>G/C</td>\n",
       "      <td>NaN</td>\n",
       "      <td>ENSP00000399229</td>\n",
       "      <td>T136S</td>\n",
       "      <td>SF0042359</td>\n",
       "      <td>95</td>\n",
       "      <td>1.83872</td>\n",
       "      <td>2.56474</td>\n",
       "      <td>48726</td>\n",
       "      <td>3.29e-10</td>\n",
       "      <td>48727</td>\n",
       "      <td>0.0099</td>\n",
       "    </tr>\n",
       "    <tr>\n",
       "      <th>3392588</th>\n",
       "      <td>T/C</td>\n",
       "      <td>NaN</td>\n",
       "      <td>ENSP00000367629</td>\n",
       "      <td>Y479H</td>\n",
       "      <td>SF0040099</td>\n",
       "      <td>5</td>\n",
       "      <td>2.69907</td>\n",
       "      <td>4.0507</td>\n",
       "      <td>50729</td>\n",
       "      <td>3.73e-18</td>\n",
       "      <td>50730</td>\n",
       "      <td>0.017</td>\n",
       "    </tr>\n",
       "    <tr>\n",
       "      <th>3392588</th>\n",
       "      <td>T/C</td>\n",
       "      <td>NaN</td>\n",
       "      <td>ENSP00000367629</td>\n",
       "      <td>Y479H</td>\n",
       "      <td>SF0050917</td>\n",
       "      <td>5</td>\n",
       "      <td>2.69907</td>\n",
       "      <td>4.0507</td>\n",
       "      <td>48065</td>\n",
       "      <td>3.53e-57</td>\n",
       "      <td>48066</td>\n",
       "      <td>8.09e-05</td>\n",
       "    </tr>\n",
       "    <tr>\n",
       "      <th>3392588</th>\n",
       "      <td>T/C</td>\n",
       "      <td>NaN</td>\n",
       "      <td>ENSP00000408887</td>\n",
       "      <td>Y183H</td>\n",
       "      <td>SF0040099</td>\n",
       "      <td>5</td>\n",
       "      <td>2.69907</td>\n",
       "      <td>4.0507</td>\n",
       "      <td>50729</td>\n",
       "      <td>1.32e-18</td>\n",
       "      <td>50730</td>\n",
       "      <td>0.017</td>\n",
       "    </tr>\n",
       "    <tr>\n",
       "      <th>3392588</th>\n",
       "      <td>T/C</td>\n",
       "      <td>NaN</td>\n",
       "      <td>ENSP00000408887</td>\n",
       "      <td>Y183H</td>\n",
       "      <td>SF0050917</td>\n",
       "      <td>5</td>\n",
       "      <td>2.69907</td>\n",
       "      <td>4.0507</td>\n",
       "      <td>48065</td>\n",
       "      <td>3.27e-38</td>\n",
       "      <td>48066</td>\n",
       "      <td>0.00025</td>\n",
       "    </tr>\n",
       "  </tbody>\n",
       "</table>\n",
       "</div>"
      ],
      "text/plain": [
       "               calls  snp_id          ENSP_id prot_sub        HMM position  \\\n",
       "#CHROM POS                                                                   \n",
       "1      69224     A/T     NaN  ENSP00000334393     D45V  SF0037432       44   \n",
       "       1290695   G/C     NaN  ENSP00000307887    T136S  SF0042359       95   \n",
       "       1290695   G/C     NaN  ENSP00000344998     T35S  SF0047556       61   \n",
       "       1290695   G/C     NaN  ENSP00000399229    T136S  SF0042359       95   \n",
       "       3392588   T/C     NaN  ENSP00000367629    Y479H  SF0040099        5   \n",
       "       3392588   T/C     NaN  ENSP00000367629    Y479H  SF0050917        5   \n",
       "       3392588   T/C     NaN  ENSP00000408887    Y183H  SF0040099        5   \n",
       "       3392588   T/C     NaN  ENSP00000408887    Y183H  SF0050917        5   \n",
       "\n",
       "                      ref_prob mut_prob SUPERFAMILY Sup_e_val FAMILY Fam_e_val  \n",
       "#CHROM POS                                                                      \n",
       "1      69224    0.524940000001  4.26011       81321  2.93e-78  81320    0.0021  \n",
       "       1290695         1.83872  2.56474       48726  3.14e-10  48727    0.0099  \n",
       "       1290695         1.72866  2.45993       48726  0.000485  49159     0.077  \n",
       "       1290695         1.83872  2.56474       48726  3.29e-10  48727    0.0099  \n",
       "       3392588         2.69907   4.0507       50729  3.73e-18  50730     0.017  \n",
       "       3392588         2.69907   4.0507       48065  3.53e-57  48066  8.09e-05  \n",
       "       3392588         2.69907   4.0507       50729  1.32e-18  50730     0.017  \n",
       "       3392588         2.69907   4.0507       48065  3.27e-38  48066   0.00025  "
      ]
     },
     "metadata": {
      "scrapbook": {
       "mime_prefix": "",
       "name": "excerpt-consequence"
      }
     },
     "output_type": "display_data"
    }
   ],
   "source": [
    "glue('consequence-rows', len(c_df.index))\n",
    "glue('consequence-unique-snps', len(c_df.index.unique()))\n",
    "glue('consequence-unique-proteins', len(c_df['ENSP_id'].unique())) \n",
    "glue('consequence-unique-families', len(c_df['FAMILY'].unique())) \n",
    "glue('consequence-unique-supfam', len(c_df['SUPERFAMILY'].unique()))\n",
    "\n",
    "regs_snp = c_df.iloc[0].name\n",
    "multi_family_snp = False\n",
    "multi_supfam_snp = False\n",
    "for chrom, pos in c_df[c_df.index.duplicated(keep=False)].index.unique():\n",
    "    families_per_snp = len(c_df.loc[(chrom, pos)]['FAMILY'].unique())\n",
    "    superfamilies_per_snp = len(c_df.loc[(chrom, pos)]['SUPERFAMILY'].unique())\n",
    "    if families_per_snp > 1 and superfamilies_per_snp == 1:\n",
    "        multi_family_snp = (chrom, pos)\n",
    "    elif superfamilies_per_snp > 1:\n",
    "        multi_supfam_snp = (chrom, pos)\n",
    "        \n",
    "    if multi_family_snp and multi_supfam_snp:\n",
    "        break\n",
    "\n",
    "index_to_view = [regs_snp, multi_family_snp, multi_supfam_snp]\n",
    "glue(\"excerpt-consequence\", c_df.loc[index_to_view])"
   ]
  },
  {
   "cell_type": "code",
   "execution_count": 5,
   "metadata": {
    "tags": [
     "remove-cell"
    ]
   },
   "outputs": [
    {
     "data": {
      "text/html": [
       "<div>\n",
       "<style scoped>\n",
       "    .dataframe tbody tr th:only-of-type {\n",
       "        vertical-align: middle;\n",
       "    }\n",
       "\n",
       "    .dataframe tbody tr th {\n",
       "        vertical-align: top;\n",
       "    }\n",
       "\n",
       "    .dataframe thead th {\n",
       "        text-align: right;\n",
       "    }\n",
       "</style>\n",
       "<table border=\"1\" class=\"dataframe\">\n",
       "  <thead>\n",
       "    <tr style=\"text-align: right;\">\n",
       "      <th></th>\n",
       "      <th></th>\n",
       "      <th>calls</th>\n",
       "      <th>snp_id</th>\n",
       "      <th>ENSP_id</th>\n",
       "      <th>prot_sub</th>\n",
       "      <th>HMM</th>\n",
       "      <th>position</th>\n",
       "      <th>ref_prob</th>\n",
       "      <th>mut_prob</th>\n",
       "      <th>SUPERFAMILY</th>\n",
       "      <th>Sup_e_val</th>\n",
       "      <th>FAMILY</th>\n",
       "      <th>Fam_e_val</th>\n",
       "    </tr>\n",
       "    <tr>\n",
       "      <th>#CHROM</th>\n",
       "      <th>POS</th>\n",
       "      <th></th>\n",
       "      <th></th>\n",
       "      <th></th>\n",
       "      <th></th>\n",
       "      <th></th>\n",
       "      <th></th>\n",
       "      <th></th>\n",
       "      <th></th>\n",
       "      <th></th>\n",
       "      <th></th>\n",
       "      <th></th>\n",
       "      <th></th>\n",
       "    </tr>\n",
       "  </thead>\n",
       "  <tbody>\n",
       "    <tr>\n",
       "      <th rowspan=\"8\" valign=\"top\">1</th>\n",
       "      <th>69224</th>\n",
       "      <td>A/T</td>\n",
       "      <td>NaN</td>\n",
       "      <td>ENSP00000334393</td>\n",
       "      <td>D45V</td>\n",
       "      <td>SF0037432</td>\n",
       "      <td>44</td>\n",
       "      <td>0.524940000001</td>\n",
       "      <td>4.26011</td>\n",
       "      <td>81321</td>\n",
       "      <td>2.93e-78</td>\n",
       "      <td>81320</td>\n",
       "      <td>0.0021</td>\n",
       "    </tr>\n",
       "    <tr>\n",
       "      <th>1290695</th>\n",
       "      <td>G/C</td>\n",
       "      <td>NaN</td>\n",
       "      <td>ENSP00000307887</td>\n",
       "      <td>T136S</td>\n",
       "      <td>SF0042359</td>\n",
       "      <td>95</td>\n",
       "      <td>1.83872</td>\n",
       "      <td>2.56474</td>\n",
       "      <td>48726</td>\n",
       "      <td>3.14e-10</td>\n",
       "      <td>48727</td>\n",
       "      <td>0.0099</td>\n",
       "    </tr>\n",
       "    <tr>\n",
       "      <th>1290695</th>\n",
       "      <td>G/C</td>\n",
       "      <td>NaN</td>\n",
       "      <td>ENSP00000344998</td>\n",
       "      <td>T35S</td>\n",
       "      <td>SF0047556</td>\n",
       "      <td>61</td>\n",
       "      <td>1.72866</td>\n",
       "      <td>2.45993</td>\n",
       "      <td>48726</td>\n",
       "      <td>0.000485</td>\n",
       "      <td>49159</td>\n",
       "      <td>0.077</td>\n",
       "    </tr>\n",
       "    <tr>\n",
       "      <th>1290695</th>\n",
       "      <td>G/C</td>\n",
       "      <td>NaN</td>\n",
       "      <td>ENSP00000399229</td>\n",
       "      <td>T136S</td>\n",
       "      <td>SF0042359</td>\n",
       "      <td>95</td>\n",
       "      <td>1.83872</td>\n",
       "      <td>2.56474</td>\n",
       "      <td>48726</td>\n",
       "      <td>3.29e-10</td>\n",
       "      <td>48727</td>\n",
       "      <td>0.0099</td>\n",
       "    </tr>\n",
       "    <tr>\n",
       "      <th>3392588</th>\n",
       "      <td>T/C</td>\n",
       "      <td>NaN</td>\n",
       "      <td>ENSP00000367629</td>\n",
       "      <td>Y479H</td>\n",
       "      <td>SF0040099</td>\n",
       "      <td>5</td>\n",
       "      <td>2.69907</td>\n",
       "      <td>4.0507</td>\n",
       "      <td>50729</td>\n",
       "      <td>3.73e-18</td>\n",
       "      <td>50730</td>\n",
       "      <td>0.017</td>\n",
       "    </tr>\n",
       "    <tr>\n",
       "      <th>3392588</th>\n",
       "      <td>T/C</td>\n",
       "      <td>NaN</td>\n",
       "      <td>ENSP00000367629</td>\n",
       "      <td>Y479H</td>\n",
       "      <td>SF0050917</td>\n",
       "      <td>5</td>\n",
       "      <td>2.69907</td>\n",
       "      <td>4.0507</td>\n",
       "      <td>48065</td>\n",
       "      <td>3.53e-57</td>\n",
       "      <td>48066</td>\n",
       "      <td>8.09e-05</td>\n",
       "    </tr>\n",
       "    <tr>\n",
       "      <th>3392588</th>\n",
       "      <td>T/C</td>\n",
       "      <td>NaN</td>\n",
       "      <td>ENSP00000408887</td>\n",
       "      <td>Y183H</td>\n",
       "      <td>SF0040099</td>\n",
       "      <td>5</td>\n",
       "      <td>2.69907</td>\n",
       "      <td>4.0507</td>\n",
       "      <td>50729</td>\n",
       "      <td>1.32e-18</td>\n",
       "      <td>50730</td>\n",
       "      <td>0.017</td>\n",
       "    </tr>\n",
       "    <tr>\n",
       "      <th>3392588</th>\n",
       "      <td>T/C</td>\n",
       "      <td>NaN</td>\n",
       "      <td>ENSP00000408887</td>\n",
       "      <td>Y183H</td>\n",
       "      <td>SF0050917</td>\n",
       "      <td>5</td>\n",
       "      <td>2.69907</td>\n",
       "      <td>4.0507</td>\n",
       "      <td>48065</td>\n",
       "      <td>3.27e-38</td>\n",
       "      <td>48066</td>\n",
       "      <td>0.00025</td>\n",
       "    </tr>\n",
       "  </tbody>\n",
       "</table>\n",
       "</div>"
      ],
      "text/plain": [
       "               calls  snp_id          ENSP_id prot_sub        HMM position  \\\n",
       "#CHROM POS                                                                   \n",
       "1      69224     A/T     NaN  ENSP00000334393     D45V  SF0037432       44   \n",
       "       1290695   G/C     NaN  ENSP00000307887    T136S  SF0042359       95   \n",
       "       1290695   G/C     NaN  ENSP00000344998     T35S  SF0047556       61   \n",
       "       1290695   G/C     NaN  ENSP00000399229    T136S  SF0042359       95   \n",
       "       3392588   T/C     NaN  ENSP00000367629    Y479H  SF0040099        5   \n",
       "       3392588   T/C     NaN  ENSP00000367629    Y479H  SF0050917        5   \n",
       "       3392588   T/C     NaN  ENSP00000408887    Y183H  SF0040099        5   \n",
       "       3392588   T/C     NaN  ENSP00000408887    Y183H  SF0050917        5   \n",
       "\n",
       "                      ref_prob mut_prob SUPERFAMILY Sup_e_val FAMILY Fam_e_val  \n",
       "#CHROM POS                                                                      \n",
       "1      69224    0.524940000001  4.26011       81321  2.93e-78  81320    0.0021  \n",
       "       1290695         1.83872  2.56474       48726  3.14e-10  48727    0.0099  \n",
       "       1290695         1.72866  2.45993       48726  0.000485  49159     0.077  \n",
       "       1290695         1.83872  2.56474       48726  3.29e-10  48727    0.0099  \n",
       "       3392588         2.69907   4.0507       50729  3.73e-18  50730     0.017  \n",
       "       3392588         2.69907   4.0507       48065  3.53e-57  48066  8.09e-05  \n",
       "       3392588         2.69907   4.0507       50729  1.32e-18  50730     0.017  \n",
       "       3392588         2.69907   4.0507       48065  3.27e-38  48066   0.00025  "
      ]
     },
     "metadata": {},
     "output_type": "display_data"
    }
   ],
   "source": [
    "# TODO: tabix consequence file\n",
    "# TODO: filter background VCF file\n",
    "display(c_df.loc[index_to_view])\n",
    "# TODO: tabix VCF file"
   ]
  }
 ],
 "metadata": {
  "jupytext": {
   "formats": "ipynb,md:myst",
   "text_representation": {
    "extension": ".md",
    "format_name": "myst",
    "format_version": 0.12,
    "jupytext_version": "1.9.1"
   }
  },
  "kernelspec": {
   "display_name": "Python 3",
   "language": "python",
   "name": "python3"
  },
  "language_info": {
   "codemirror_mode": {
    "name": "ipython",
    "version": 3
   },
   "file_extension": ".py",
   "mimetype": "text/x-python",
   "name": "python",
   "nbconvert_exporter": "python",
   "pygments_lexer": "ipython3",
   "version": "3.7.2"
  },
  "source_map": [
   13,
   86,
   158,
   166,
   216,
   256,
   286,
   330,
   355,
   382,
   389
  ]
 },
 "nbformat": 4,
 "nbformat_minor": 4
}