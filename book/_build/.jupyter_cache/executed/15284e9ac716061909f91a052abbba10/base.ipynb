{
 "cells": [
  {
   "cell_type": "code",
   "execution_count": 1,
   "metadata": {
    "render": {
     "figure": {
      "caption": "Test caption",
      "name": "funnel-combine-gxa"
     },
     "image": {
      "width": "800px"
     }
    },
    "tags": [
     "hide-input"
    ]
   },
   "outputs": [],
   "source": [
    "libraries <- function(){\n",
    "    library(httr)\n",
    "    library(jsonlite)\n",
    "    library(tidyverse)\n",
    "    library(plotly)\n",
    "    library(IRdisplay)\n",
    "    library(ExpressionAtlas) \n",
    "    library(htmlwidgets)\n",
    "}\n",
    "suppressMessages(libraries())\n",
    "\n",
    "analysis_date <- \"2019-06-01\"  #YYYY-mm-dd\n",
    "min_assays <- 80\n",
    "\n",
    "# Get information about experiments\n",
    "gxa_json <- 'https://www.ebi.ac.uk/gxa/json/experiments'\n",
    "req <- httr::GET(gxa_json)\n",
    "text <- httr::content(req, \"text\", encoding=\"UTF-8\")\n",
    "gxa_experiment_info <- as_tibble(jsonlite::fromJSON(text)$experiments)\n",
    "\n",
    "# All data at time of analysis:\n",
    "gxa_experiment_info$loadDate <- as.Date(gxa_experiment_info$loadDate, \"%d-%m-%Y\")\n",
    "gxa_experiment_info <- gxa_experiment_info %>% filter(loadDate<analysis_date)\n",
    "funnel_info <- tibble(name=\"All experiments\",\n",
    "                      num_experiments=nrow(gxa_experiment_info))\n",
    "\n",
    "# All next-gen sequencing experiments:\n",
    "gxa_experiment_info<- gxa_experiment_info %>% \n",
    "  filter(technologyType=='RNA-Seq mRNA')\n",
    "funnel_info <- funnel_info %>%\n",
    "  add_row(name=\"RNA-Seq technology\",\n",
    "          num_experiments=nrow(gxa_experiment_info))\n",
    "\n",
    "# All baseline expression experiments\n",
    "gxa_experiment_info<- gxa_experiment_info %>%\n",
    "  filter(experimentType=='Baseline')\n",
    "baseline <- nrow(gxa_experiment_info)\n",
    "funnel_info <- funnel_info %>%\n",
    "  add_row(name=\"Baseline experiments\",\n",
    "          num_experiments=nrow(gxa_experiment_info))\n",
    "\n",
    "# All human experiments\n",
    "gxa_experiment_info<- gxa_experiment_info %>% \n",
    "  filter(species=='Homo sapiens')\n",
    "funnel_info <- funnel_info %>%\n",
    "  add_row(name=\"Human\",\n",
    "          num_experiments=nrow(gxa_experiment_info))\n",
    "\n",
    "# All \"organism part\" experiments with > 80 assays:\n",
    "gxa_experiment_info$experimentalFactors <- as.character(gxa_experiment_info$experimentalFactors)\n",
    "gxa_experiment_info <- gxa_experiment_info %>% \n",
    "  filter(numberOfAssays>min_assays, \n",
    "         str_detect(experimentalFactors, 'organism part'))\n",
    "funnel_info <- funnel_info %>%\n",
    "  add_row(name=\"Contains tissues and >80 samples\",\n",
    "          num_experiments=nrow(gxa_experiment_info))\n",
    "\n",
    "# Excluding cancer experiments:\n",
    "gxa_experiment_info$experimentDescription <- as.character(gxa_experiment_info$experimentDescription)\n",
    "gxa_experiment_info <- gxa_experiment_info %>% \n",
    "  filter(str_detect(experimentDescription,'[cC]ancer', negate=TRUE))\n",
    "funnel_info <- funnel_info %>%\n",
    "  add_row(name=\"Not cancer experiments\",\n",
    "          num_experiments=nrow(gxa_experiment_info))\n",
    "\n",
    "\n",
    "create_fig <- function(){\n",
    "    fig <- plot_ly()\n",
    "    fig <- fig %>% add_trace(\n",
    "        type = \"funnel\",\n",
    "        y = as.character(funnel_info$name),\n",
    "        x = as.integer(funnel_info$num_experiments))\n",
    "    fig <- fig %>% layout(yaxis = list(categoryarray = as.character(funnel_info$name)))\n",
    "#     orca(fig, '../images/combining_funnel_static.png', width=800)\n",
    "     saveWidget(fig, \"../images/combining_funnel_interactive.html\", selfcontained = TRUE)\n",
    "#     IRdisplay::display_html(file='../images/combining_funnel_interactive.html')\n",
    "\n",
    "}\n",
    "\n",
    "suppressWarnings(create_fig())"
   ]
  },
  {
   "cell_type": "code",
   "execution_count": 2,
   "metadata": {
    "tags": [
     "remove-input"
    ]
   },
   "outputs": [],
   "source": [
    "gxa_experiment_info <- gxa_experiment_info %>% add_column(shortName=c(\"HPA\", \"FANTOM5\", \"GTEx\", \"HDBR\")) %>% select(shortName, experimentAccession, experimentDescription, numberOfAssays, experimentalFactors)\n",
    "\n",
    "# head(gxa_experiment_info)"
   ]
  }
 ],
 "metadata": {
  "jupytext": {
   "formats": "ipynb,md:myst",
   "text_representation": {
    "extension": ".md",
    "format_name": "myst",
    "format_version": 0.12,
    "jupytext_version": "1.9.1"
   }
  },
  "kernelspec": {
   "display_name": "R",
   "language": "R",
   "name": "ir"
  },
  "language_info": {
   "codemirror_mode": "r",
   "file_extension": ".r",
   "mimetype": "text/x-r-source",
   "name": "R",
   "pygments_lexer": "r",
   "version": "4.0.2"
  },
  "source_map": [
   13,
   115,
   205,
   219,
   224,
   230,
   267,
   290
  ]
 },
 "nbformat": 4,
 "nbformat_minor": 4
}