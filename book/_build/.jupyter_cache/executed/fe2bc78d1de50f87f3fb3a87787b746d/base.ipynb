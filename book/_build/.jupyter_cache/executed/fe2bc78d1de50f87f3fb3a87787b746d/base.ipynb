{
 "cells": [
  {
   "cell_type": "code",
   "execution_count": 1,
   "metadata": {
    "tags": [
     "hide-input",
     "remove-output"
    ]
   },
   "outputs": [
    {
     "data": {
      "text/html": [
       "<div>\n",
       "<style scoped>\n",
       "    .dataframe tbody tr th:only-of-type {\n",
       "        vertical-align: middle;\n",
       "    }\n",
       "\n",
       "    .dataframe tbody tr th {\n",
       "        vertical-align: top;\n",
       "    }\n",
       "\n",
       "    .dataframe thead th {\n",
       "        text-align: right;\n",
       "    }\n",
       "</style>\n",
       "<table border=\"1\" class=\"dataframe\">\n",
       "  <thead>\n",
       "    <tr style=\"text-align: right;\">\n",
       "      <th></th>\n",
       "      <th>phenotype</th>\n",
       "      <th>confidence</th>\n",
       "    </tr>\n",
       "    <tr>\n",
       "      <th>protein</th>\n",
       "      <th></th>\n",
       "      <th></th>\n",
       "    </tr>\n",
       "  </thead>\n",
       "  <tbody>\n",
       "    <tr>\n",
       "      <th>T96060005150</th>\n",
       "      <td>GO:0003674</td>\n",
       "      <td>1.00</td>\n",
       "    </tr>\n",
       "    <tr>\n",
       "      <th>T96060005150</th>\n",
       "      <td>GO:0008150</td>\n",
       "      <td>1.00</td>\n",
       "    </tr>\n",
       "    <tr>\n",
       "      <th>T96060005150</th>\n",
       "      <td>GO:0005575</td>\n",
       "      <td>1.00</td>\n",
       "    </tr>\n",
       "    <tr>\n",
       "      <th>T96060005150</th>\n",
       "      <td>GO:0005623</td>\n",
       "      <td>0.98</td>\n",
       "    </tr>\n",
       "    <tr>\n",
       "      <th>T96060005150</th>\n",
       "      <td>GO:0044464</td>\n",
       "      <td>0.98</td>\n",
       "    </tr>\n",
       "  </tbody>\n",
       "</table>\n",
       "</div>"
      ],
      "text/plain": [
       "               phenotype  confidence\n",
       "protein                             \n",
       "T96060005150  GO:0003674        1.00\n",
       "T96060005150  GO:0008150        1.00\n",
       "T96060005150  GO:0005575        1.00\n",
       "T96060005150  GO:0005623        0.98\n",
       "T96060005150  GO:0044464        0.98"
      ]
     },
     "metadata": {
      "scrapbook": {
       "mime_prefix": "",
       "name": "dcgo-predictions-view"
      }
     },
     "output_type": "display_data"
    },
    {
     "data": {
      "application/papermill.record/text/plain": "15192949"
     },
     "metadata": {
      "scrapbook": {
       "mime_prefix": "application/papermill.record/",
       "name": "dcgo-cafa2-predictions"
      }
     },
     "output_type": "display_data"
    },
    {
     "data": {
      "application/papermill.record/text/plain": "20257"
     },
     "metadata": {
      "scrapbook": {
       "mime_prefix": "application/papermill.record/",
       "name": "dcgo-cafa2-proteins"
      }
     },
     "output_type": "display_data"
    },
    {
     "data": {
      "application/papermill.record/text/plain": "15749"
     },
     "metadata": {
      "scrapbook": {
       "mime_prefix": "application/papermill.record/",
       "name": "dcgo-cafa2-phenotypes"
      }
     },
     "output_type": "display_data"
    }
   ],
   "source": [
    "import pandas as pd \n",
    "from myst_nb import glue\n",
    "\n",
    "# TODO: Make drop-down. Glue table.\n",
    "dcgo_predictions = pd.read_csv('data/created/dcgo_submission.txt', sep='\\t', skiprows=4, index_col=0, header=None)\n",
    "dcgo_predictions.drop('END', inplace=True)\n",
    "dcgo_predictions.columns = ['phenotype', 'confidence']\n",
    "dcgo_predictions.index.rename('protein', inplace=True)\n",
    "glue('dcgo-predictions-view', dcgo_predictions.head())\n",
    "glue('dcgo-cafa2-predictions', len(dcgo_predictions.index), display=False)\n",
    "glue('dcgo-cafa2-proteins', len(dcgo_predictions.index.unique()), display=False)\n",
    "glue('dcgo-cafa2-phenotypes', len(dcgo_predictions.phenotype.unique()), display=False)"
   ]
  },
  {
   "cell_type": "code",
   "execution_count": 2,
   "metadata": {
    "tags": [
     "remove-input",
     "remove-output"
    ]
   },
   "outputs": [],
   "source": [
    "# mapped_by_tissue_name = merged.sample_map_by_name(names_info[tissue_col])\n",
    "\n",
    "\n",
    "# # TODO: Choose some of these rows and put into a table and disucss\n",
    "# # For example, limitations of Ontolopy, FF:10189-103D9 has name: appendix, adult, rep1, but no tissue, therefore it hasn't been mapped by name to appendix... We might be able to create tissue information from names, but it's not necessary since we're defaulting to the ontology mapping anyway.\n",
    "# mapped_by_tissue_name[mapped_by_tissue_name['to'].isna()]\n",
    "\n",
    "# mapped_by_tissue_name.loc['FF:10379-105H1']\n",
    "\n",
    "# num_uberon_mapped = len(overall['overall'].unique()) - 1\n",
    "# print(f'{len(overall.index)} samples mapped to {num_uberon_mapped} unique UBERON terms.')\n",
    "\n",
    "# old_to_new_ff = {}\n",
    "# for new_ff in samples_info.index:\n",
    "#     old_ff = new_ff.split('_')[0]\n",
    "#     try:\n",
    "#         old_to_new_ff[old_ff].append(new_ff)\n",
    "#     except:\n",
    "#         old_to_new_ff[old_ff] = [new_ff]\n",
    "\n",
    "# total = 0\n",
    "# for uberon in overall_mapping['overall'].unique():\n",
    "#     if uberon is None:\n",
    "#         continue\n",
    "#     tissue_accession = [len(old_to_new_ff[x]) for x in overall_mapping[overall_mapping['overall'] == uberon].index]\n",
    "#     # TODO: might be mulitple samples per accession\n",
    "# #     break\n",
    "#     total += sum(tissue_accession)\n",
    "#     print(uberon, merged_ont[uberon]['name'], sum(tissue_accession))\n",
    "    \n",
    "# print(total)"
   ]
  }
 ],
 "metadata": {
  "jupytext": {
   "formats": "ipynb,md:myst",
   "text_representation": {
    "extension": ".md",
    "format_name": "myst",
    "format_version": 0.12,
    "jupytext_version": "1.9.1"
   }
  },
  "kernelspec": {
   "display_name": "Python 3",
   "language": "python",
   "name": "python3"
  },
  "language_info": {
   "codemirror_mode": {
    "name": "ipython",
    "version": 3
   },
   "file_extension": ".py",
   "mimetype": "text/x-python",
   "name": "python",
   "nbconvert_exporter": "python",
   "pygments_lexer": "ipython3",
   "version": "3.7.2"
  },
  "source_map": [
   13,
   64,
   79,
   87,
   343,
   369,
   403,
   414
  ]
 },
 "nbformat": 4,
 "nbformat_minor": 4
}