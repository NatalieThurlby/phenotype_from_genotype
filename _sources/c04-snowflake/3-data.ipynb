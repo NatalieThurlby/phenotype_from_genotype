{
 "cells": [
  {
   "cell_type": "markdown",
   "id": "rapid-extent",
   "metadata": {},
   "source": [
    "## Snowflake input data\n",
    "[//]: # (TODO: Have I already explained VCF format? Link or explain here. Cite. Cite the version of the format we use. Explain that there are different versions.)\n",
    "`Snowflake` requires:\n",
    "     - genetic data as input, in VCF format. \n",
    "     - conservation scores per SNP.\n",
    "     \n",
    "This section describes the sources and pipelines for creating input files."
   ]
  },
  {
   "cell_type": "markdown",
   "id": "interracial-detective",
   "metadata": {},
   "source": [
    "### Data sources"
   ]
  },
  {
   "cell_type": "markdown",
   "id": "sudden-poster",
   "metadata": {},
   "source": [
    "#### ALSPAC\n",
    "[//]: # (TODO: Further describe the value of the dataset and what it is generally used for)\n",
    "The Avon Longitudinal Study of Parents and Children, ALSPAC{cite}`Golding2001-oj` (a.k.a. the children of the 90s) is a cohort of over 14,000 families from the Avon area. A wealth of phenotype information has also been collected from these families, through a series of voluntary surveys and clinics.\n",
    "\n",
    "Due to the personal and private nature of the data, we were granted access to the genotype data first, then allowed to request a small number of high-scoring phenotypes after running the predictor.\n",
    "\n",
    "[//]: # (TODO: link ethics approval docs (put on OSF?)\n",
    "\n",
    "Although the ALSPAC dataset is large, it is not very diverse, therefore the 1000 genomes project (Phase 1) genomes were used as a background set.\n",
    "\n",
    "##### Genotypes\n",
    "[//]: # (TODO: Write)\n",
    "Of the 14,000+ families in the ALSPAC cohort, 8365 of the children were genotyped by 23andMe and passed quality control. The participants were genotyped using the 23andme v2 chip, which measures ~550,000 SNPS.\n",
    "\n",
    "[//]: # (TODO: Fix cross-ref)\n",
    "[//]: # (TODO: Optional for thesis: Link to reproducible versions of scripts that do this: form_alspac_vcf, form_alspac_consequence)\n",
    "These 23andMe files use build 36 of the human reference genome, so a build 36 version of the `.vcf` and `.Consequence` files for ALSPAC were made first (created with the `snowflake create_input` command described in {numref}`snowflake-create-input`), before lifting them over to the build 37 versions which were used for input to the `Snowflake`. \n",
    "\n",
    "**Lift-over procedure**\n",
    "Lifting over VCF files between {ref}`different-builds` was done using the UCSC LiftOver tool.\n",
    "\n",
    "\n",
    "[//]: # (TODO: Here?? EDA: Number of variants overlap with 1000G)"
   ]
  },
  {
   "cell_type": "markdown",
   "id": "handed-thursday",
   "metadata": {},
   "source": [
    "##### Phenotypes\n",
    "[//]: # (TODO: explain that using the catalogue - and link - ALSPAC phenotypes matching the DcGO phenotypes were chosen for the highest scoring things on a the prototype version. Maybe explain that due to the sensitivity of this to other things, they were not the highest ranking things any more).\n",
    "\n",
    "[//]: # (TODO: Rewrite paragraph below:)\n",
    "The majority of the top-predicted phenotype terms (Ataxia, Abnormal Fat Cell Morphology, Abnormal Fetal Development) did not map cleanly to ALSPAC phenotypes, and those that did (e.g. Intellectual Disability) had many missing values, or did not overlap with the genotyped individuals.\n",
    "\n",
    "[//]: # (TODO: EDA Graph: What phenotypes do we have?)\n",
    "[//]: # (TODO: EDA Graph: Phenotype missing data)\n",
    "\n",
    "[//]: # (TODO: Cite lack of diversity)."
   ]
  },
  {
   "cell_type": "markdown",
   "id": "rough-attitude",
   "metadata": {},
   "source": [
    "### Athletes\n",
    "[//]: # (TODO: Write)"
   ]
  },
  {
   "cell_type": "markdown",
   "id": "sweet-adelaide",
   "metadata": {},
   "source": [
    "### CAGI\n",
    "[//]: # (TODO: Write)"
   ]
  },
  {
   "cell_type": "markdown",
   "id": "harmful-links",
   "metadata": {},
   "source": [
    "### Data Pipelines"
   ]
  },
  {
   "cell_type": "markdown",
   "id": "agreed-friend",
   "metadata": {},
   "source": [
    "#### Pipeline for creating VCF files from 23andMe data\n",
    "The CAGI, Athletes, and ALSPAC datasets were all genotyped using 23andMe, so the following applies to all of these datasets.\n",
    "\n",
    "##### 23andMe chips\n",
    "[//]: # (TODO: Write and cite)\n",
    "Since launch, 23andMe have used a number of different illumina chips for their genotyping service. These chips capture information for different SNPs.\n",
    "\n",
    "##### Ambiguous Flips\n",
    "[//]: # (TODO: Explain ambigious flips a bit better)\n",
    "The majority of input data to the predictor is 23andMe data. In testing the predictor with the 2500G background and a cohort of 23andMe genomes, it became clear that for many phenotypes, the background was forming a separate cluster to the cohort. This led to the realisation that there are 23andMe calls which had the opposite ratio of wild type:mutant than the 2500 genomes. Some further reading revealed this to be a known problem{cite}`Church2005-zv`, which may be due to ambiguous flips{cite}`Sand2007-ed`. \n",
    "\n",
    "[//]: # (TODO: Finish writing this sentence:)\n",
    "Implausible distributions of SNPs in the input cohort (given the background) are therefore discarded. i.e if the input cohort doesn't match the background. (all one way and the rest all the other)."
   ]
  },
  {
   "cell_type": "markdown",
   "id": "following-massachusetts",
   "metadata": {},
   "source": [
    "#### ALSPAC\n",
    "\n",
    "##### Creating VCF files\n",
    "[//]: # (TODO: Cross-ref to Pipeline for creating VCF files above)\n",
    "[//]: # (TODO: What settings was ALSPAC data set created with using VCF files)\n",
    "\n",
    "**Missing values**\n",
    "[//]: # (TODO: write - or possibly move to results section)\n",
    "\n",
    "**Distribution of SNPs per phenotype**\n",
    "[//]: # (TODO: Distribution of number of SNPs per phenotype for ALSPAC, showing overall and highlighting phenotypes with ground truth information)\n",
    "\n",
    "**Distribution of SNP scores within phenotypes**\n",
    "[//]: # (TODO: Distribution of number SNP scores within phenotypes - violin plot with some examples - for ALSPAC. Known phenotypes included, dotted lines showing max scores for any SNP.)\n",
    "\n",
    "##### Phenotypes\n",
    "[//]: # (TODO: Mapping phenotypes to ALSPAC measurements. Write - was done by hand using the ALSPAC catalogue)"
   ]
  },
  {
   "cell_type": "markdown",
   "id": "systematic-effect",
   "metadata": {},
   "source": [
    "#### CAGI\n",
    "[//]: # (TODO: Possibly delete this section)\n",
    "\n",
    "##### Creating VCF files\n",
    "[//]: # (TODO: Cross-ref to Pipeline for creating VCF files above)\n",
    "[//]: # (TODO: What settings was CAGI data set created with using VCF files)\n",
    "\n",
    "**Missing values**\n",
    "[//]: # (TODO: write - or possibly move to results section)\n",
    "\n",
    "**Distribution of SNPs per phenotype**\n",
    "[//]: # (TODO: Distribution of number of SNPs per phenotype for ALSPAC, showing overall and highlighting phenotypes with ground truth information)\n",
    "\n",
    "**Distribution of SNP scores within phenotypes**\n",
    "[//]: # (TODO: Distribution of number SNP scores within phenotypes - violin plot with some examples - for CAGI. Known phenotypes included, dotted lines showing max scores for any SNP.)\n",
    "\n",
    "##### Mapping phenotypes to CAGI measurements\n",
    "[//]: # (TODO: Write)"
   ]
  },
  {
   "cell_type": "markdown",
   "id": "surprising-fraud",
   "metadata": {},
   "source": [
    "#### Athletes\n",
    "[//]: # (TODO: Possibly delete this section)\n",
    "\n",
    "##### Creating VCF files\n",
    "[//]: # (TODO: Cross-ref to Pipeline for creating VCF files above)\n",
    "[//]: # (TODO: What settings was CAGI data set created with using VCF files)\n",
    "\n",
    "**Missing values**\n",
    "[//]: # (TODO: write - or possibly move to results section)\n",
    "\n",
    "**Distribution of SNPs per phenotype**\n",
    "[//]: # (TODO: Distribution of number of SNPs per phenotype for ALSPAC, showing overall and highlighting phenotypes with ground truth information)\n",
    "\n",
    "**Distribution of SNP scores within phenotypes**\n",
    "[//]: # (TODO: Distribution of number SNP scores within phenotypes - violin plot with some examples - for CAGI. Known phenotypes included, dotted lines showing max scores for any SNP.)\n",
    "\n",
    "##### Mapping phenotypes to CAGI measurements\n",
    "[//]: # (TODO: Write)"
   ]
  },
  {
   "cell_type": "markdown",
   "id": "sticky-border",
   "metadata": {},
   "source": [
    "---\n",
    "**Page References**\n",
    "\n",
    "```{bibliography} /_bibliography/references.bib\n",
    ":filter: docname in docnames\n",
    ":style: unsrt\n",
    "```"
   ]
  }
 ],
 "metadata": {
  "jupytext": {
   "formats": "ipynb,md:myst",
   "text_representation": {
    "extension": ".md",
    "format_name": "myst",
    "format_version": 0.12,
    "jupytext_version": "1.6.0"
   }
  },
  "kernelspec": {
   "display_name": "Python 3",
   "language": "python",
   "name": "python3"
  },
  "language_info": {
   "codemirror_mode": {
    "name": "ipython",
    "version": 3
   },
   "file_extension": ".py",
   "mimetype": "text/x-python",
   "name": "python",
   "nbconvert_exporter": "python",
   "pygments_lexer": "ipython3",
   "version": "3.7.9"
  },
  "source_map": [
   13,
   23,
   27,
   53,
   66,
   71,
   76,
   84,
   100,
   120,
   141,
   162
  ]
 },
 "nbformat": 4,
 "nbformat_minor": 5
}